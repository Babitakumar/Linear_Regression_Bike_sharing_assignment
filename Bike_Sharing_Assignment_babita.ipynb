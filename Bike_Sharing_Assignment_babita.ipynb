{
 "cells": [
  {
   "cell_type": "markdown",
   "metadata": {},
   "source": [
    "# Bike Sharing Assignment"
   ]
  },
  {
   "cell_type": "markdown",
   "metadata": {},
   "source": [
    "### Problem Statement:"
   ]
  },
  {
   "cell_type": "markdown",
   "metadata": {},
   "source": [
    "A US bike-sharing provider BoomBikes has recently suffered considerable dips in their revenues due to the ongoing Corona pandemic. The company is finding it very difficult to sustain in the current market scenario. So, it has decided to come up with a mindful business plan to be able to accelerate its revenue as soon as the ongoing lockdown comes to an end, and the economy restores to a healthy state. \n",
    "In such an attempt, BoomBikes aspires to understand the demand for shared bikes among the people after this ongoing quarantine situation ends across the nation due to Covid-19. They have planned this to prepare themselves to cater to the people's needs once the situation gets better all around and stand out from other service providers and make huge profits."
   ]
  },
  {
   "cell_type": "markdown",
   "metadata": {},
   "source": [
    "### The company is interested to know:\n",
    "\n"
   ]
  },
  {
   "cell_type": "markdown",
   "metadata": {},
   "source": [
    "Which variables are significant in predicting the demand for shared bikes.\n",
    "\n",
    "How well those variables describe the bike demands."
   ]
  },
  {
   "cell_type": "markdown",
   "metadata": {},
   "source": [
    "### Business goal:"
   ]
  },
  {
   "cell_type": "markdown",
   "metadata": {},
   "source": [
    "To understand how exactly the demands vary with different features.\n",
    "\n",
    "They want a model and accordingly modify the business strategy to meet the demand levels and meet the customer's expectations."
   ]
  },
  {
   "cell_type": "markdown",
   "metadata": {},
   "source": [
    "## 1. Importing the required Libraries"
   ]
  },
  {
   "cell_type": "code",
   "execution_count": 99,
   "metadata": {},
   "outputs": [],
   "source": [
    "# Importing the required libraries\n",
    "import numpy as np\n",
    "import pandas as pd\n",
    "import matplotlib.pyplot as plt\n",
    "import seaborn as sns\n",
    "from sklearn.model_selection import train_test_split\n",
    "from sklearn.preprocessing import StandardScaler\n",
    "import statsmodels.api as sm\n",
    "from statsmodels.stats.outliers_influence import variance_inflation_factor\n",
    "from sklearn.linear_model import LinearRegression\n",
    "from sklearn.feature_selection import RFE\n",
    "from sklearn.model_selection import train_test_split\n",
    "from sklearn.metrics import r2_score\n",
    "from sklearn.preprocessing import MinMaxScaler"
   ]
  },
  {
   "cell_type": "code",
   "execution_count": 100,
   "metadata": {},
   "outputs": [],
   "source": [
    "# Filtering out the warnings\n",
    "\n",
    "import warnings\n",
    "\n",
    "warnings.filterwarnings('ignore')"
   ]
  },
  {
   "cell_type": "markdown",
   "metadata": {},
   "source": [
    "## 2. Reading and understanding the data"
   ]
  },
  {
   "cell_type": "code",
   "execution_count": 101,
   "metadata": {},
   "outputs": [
    {
     "data": {
      "text/html": [
       "<div>\n",
       "<style scoped>\n",
       "    .dataframe tbody tr th:only-of-type {\n",
       "        vertical-align: middle;\n",
       "    }\n",
       "\n",
       "    .dataframe tbody tr th {\n",
       "        vertical-align: top;\n",
       "    }\n",
       "\n",
       "    .dataframe thead th {\n",
       "        text-align: right;\n",
       "    }\n",
       "</style>\n",
       "<table border=\"1\" class=\"dataframe\">\n",
       "  <thead>\n",
       "    <tr style=\"text-align: right;\">\n",
       "      <th></th>\n",
       "      <th>instant</th>\n",
       "      <th>dteday</th>\n",
       "      <th>season</th>\n",
       "      <th>yr</th>\n",
       "      <th>mnth</th>\n",
       "      <th>holiday</th>\n",
       "      <th>weekday</th>\n",
       "      <th>workingday</th>\n",
       "      <th>weathersit</th>\n",
       "      <th>temp</th>\n",
       "      <th>atemp</th>\n",
       "      <th>hum</th>\n",
       "      <th>windspeed</th>\n",
       "      <th>casual</th>\n",
       "      <th>registered</th>\n",
       "      <th>cnt</th>\n",
       "    </tr>\n",
       "  </thead>\n",
       "  <tbody>\n",
       "    <tr>\n",
       "      <th>0</th>\n",
       "      <td>1</td>\n",
       "      <td>01-01-2018</td>\n",
       "      <td>1</td>\n",
       "      <td>0</td>\n",
       "      <td>1</td>\n",
       "      <td>0</td>\n",
       "      <td>1</td>\n",
       "      <td>1</td>\n",
       "      <td>2</td>\n",
       "      <td>14.110847</td>\n",
       "      <td>18.18125</td>\n",
       "      <td>80.5833</td>\n",
       "      <td>10.749882</td>\n",
       "      <td>331</td>\n",
       "      <td>654</td>\n",
       "      <td>985</td>\n",
       "    </tr>\n",
       "    <tr>\n",
       "      <th>1</th>\n",
       "      <td>2</td>\n",
       "      <td>02-01-2018</td>\n",
       "      <td>1</td>\n",
       "      <td>0</td>\n",
       "      <td>1</td>\n",
       "      <td>0</td>\n",
       "      <td>2</td>\n",
       "      <td>1</td>\n",
       "      <td>2</td>\n",
       "      <td>14.902598</td>\n",
       "      <td>17.68695</td>\n",
       "      <td>69.6087</td>\n",
       "      <td>16.652113</td>\n",
       "      <td>131</td>\n",
       "      <td>670</td>\n",
       "      <td>801</td>\n",
       "    </tr>\n",
       "    <tr>\n",
       "      <th>2</th>\n",
       "      <td>3</td>\n",
       "      <td>03-01-2018</td>\n",
       "      <td>1</td>\n",
       "      <td>0</td>\n",
       "      <td>1</td>\n",
       "      <td>0</td>\n",
       "      <td>3</td>\n",
       "      <td>1</td>\n",
       "      <td>1</td>\n",
       "      <td>8.050924</td>\n",
       "      <td>9.47025</td>\n",
       "      <td>43.7273</td>\n",
       "      <td>16.636703</td>\n",
       "      <td>120</td>\n",
       "      <td>1229</td>\n",
       "      <td>1349</td>\n",
       "    </tr>\n",
       "    <tr>\n",
       "      <th>3</th>\n",
       "      <td>4</td>\n",
       "      <td>04-01-2018</td>\n",
       "      <td>1</td>\n",
       "      <td>0</td>\n",
       "      <td>1</td>\n",
       "      <td>0</td>\n",
       "      <td>4</td>\n",
       "      <td>1</td>\n",
       "      <td>1</td>\n",
       "      <td>8.200000</td>\n",
       "      <td>10.60610</td>\n",
       "      <td>59.0435</td>\n",
       "      <td>10.739832</td>\n",
       "      <td>108</td>\n",
       "      <td>1454</td>\n",
       "      <td>1562</td>\n",
       "    </tr>\n",
       "    <tr>\n",
       "      <th>4</th>\n",
       "      <td>5</td>\n",
       "      <td>05-01-2018</td>\n",
       "      <td>1</td>\n",
       "      <td>0</td>\n",
       "      <td>1</td>\n",
       "      <td>0</td>\n",
       "      <td>5</td>\n",
       "      <td>1</td>\n",
       "      <td>1</td>\n",
       "      <td>9.305237</td>\n",
       "      <td>11.46350</td>\n",
       "      <td>43.6957</td>\n",
       "      <td>12.522300</td>\n",
       "      <td>82</td>\n",
       "      <td>1518</td>\n",
       "      <td>1600</td>\n",
       "    </tr>\n",
       "  </tbody>\n",
       "</table>\n",
       "</div>"
      ],
      "text/plain": [
       "   instant      dteday  season  yr  mnth  holiday  weekday  workingday  \\\n",
       "0        1  01-01-2018       1   0     1        0        1           1   \n",
       "1        2  02-01-2018       1   0     1        0        2           1   \n",
       "2        3  03-01-2018       1   0     1        0        3           1   \n",
       "3        4  04-01-2018       1   0     1        0        4           1   \n",
       "4        5  05-01-2018       1   0     1        0        5           1   \n",
       "\n",
       "   weathersit       temp     atemp      hum  windspeed  casual  registered  \\\n",
       "0           2  14.110847  18.18125  80.5833  10.749882     331         654   \n",
       "1           2  14.902598  17.68695  69.6087  16.652113     131         670   \n",
       "2           1   8.050924   9.47025  43.7273  16.636703     120        1229   \n",
       "3           1   8.200000  10.60610  59.0435  10.739832     108        1454   \n",
       "4           1   9.305237  11.46350  43.6957  12.522300      82        1518   \n",
       "\n",
       "    cnt  \n",
       "0   985  \n",
       "1   801  \n",
       "2  1349  \n",
       "3  1562  \n",
       "4  1600  "
      ]
     },
     "execution_count": 101,
     "metadata": {},
     "output_type": "execute_result"
    }
   ],
   "source": [
    "# Reading the day.csv file using 'read_csv'. \n",
    "\n",
    "df=pd.read_csv('day.csv')\n",
    "df.head(5)"
   ]
  },
  {
   "cell_type": "code",
   "execution_count": 102,
   "metadata": {},
   "outputs": [
    {
     "data": {
      "text/plain": [
       "(730, 16)"
      ]
     },
     "execution_count": 102,
     "metadata": {},
     "output_type": "execute_result"
    }
   ],
   "source": [
    "#Checking no. of rows & columns in the dataframe\n",
    "\n",
    "df.shape"
   ]
  },
  {
   "cell_type": "code",
   "execution_count": 103,
   "metadata": {},
   "outputs": [
    {
     "name": "stdout",
     "output_type": "stream",
     "text": [
      "<class 'pandas.core.frame.DataFrame'>\n",
      "RangeIndex: 730 entries, 0 to 729\n",
      "Data columns (total 16 columns):\n",
      " #   Column      Non-Null Count  Dtype  \n",
      "---  ------      --------------  -----  \n",
      " 0   instant     730 non-null    int64  \n",
      " 1   dteday      730 non-null    object \n",
      " 2   season      730 non-null    int64  \n",
      " 3   yr          730 non-null    int64  \n",
      " 4   mnth        730 non-null    int64  \n",
      " 5   holiday     730 non-null    int64  \n",
      " 6   weekday     730 non-null    int64  \n",
      " 7   workingday  730 non-null    int64  \n",
      " 8   weathersit  730 non-null    int64  \n",
      " 9   temp        730 non-null    float64\n",
      " 10  atemp       730 non-null    float64\n",
      " 11  hum         730 non-null    float64\n",
      " 12  windspeed   730 non-null    float64\n",
      " 13  casual      730 non-null    int64  \n",
      " 14  registered  730 non-null    int64  \n",
      " 15  cnt         730 non-null    int64  \n",
      "dtypes: float64(4), int64(11), object(1)\n",
      "memory usage: 91.4+ KB\n"
     ]
    }
   ],
   "source": [
    "#Checking the column-wise info of the dataframe\n",
    "\n",
    "df.info()"
   ]
  },
  {
   "cell_type": "code",
   "execution_count": 104,
   "metadata": {},
   "outputs": [
    {
     "data": {
      "text/html": [
       "<div>\n",
       "<style scoped>\n",
       "    .dataframe tbody tr th:only-of-type {\n",
       "        vertical-align: middle;\n",
       "    }\n",
       "\n",
       "    .dataframe tbody tr th {\n",
       "        vertical-align: top;\n",
       "    }\n",
       "\n",
       "    .dataframe thead th {\n",
       "        text-align: right;\n",
       "    }\n",
       "</style>\n",
       "<table border=\"1\" class=\"dataframe\">\n",
       "  <thead>\n",
       "    <tr style=\"text-align: right;\">\n",
       "      <th></th>\n",
       "      <th>instant</th>\n",
       "      <th>season</th>\n",
       "      <th>yr</th>\n",
       "      <th>mnth</th>\n",
       "      <th>holiday</th>\n",
       "      <th>weekday</th>\n",
       "      <th>workingday</th>\n",
       "      <th>weathersit</th>\n",
       "      <th>temp</th>\n",
       "      <th>atemp</th>\n",
       "      <th>hum</th>\n",
       "      <th>windspeed</th>\n",
       "      <th>casual</th>\n",
       "      <th>registered</th>\n",
       "      <th>cnt</th>\n",
       "    </tr>\n",
       "  </thead>\n",
       "  <tbody>\n",
       "    <tr>\n",
       "      <th>count</th>\n",
       "      <td>730.000000</td>\n",
       "      <td>730.000000</td>\n",
       "      <td>730.000000</td>\n",
       "      <td>730.000000</td>\n",
       "      <td>730.000000</td>\n",
       "      <td>730.000000</td>\n",
       "      <td>730.000000</td>\n",
       "      <td>730.000000</td>\n",
       "      <td>730.000000</td>\n",
       "      <td>730.000000</td>\n",
       "      <td>730.000000</td>\n",
       "      <td>730.000000</td>\n",
       "      <td>730.000000</td>\n",
       "      <td>730.000000</td>\n",
       "      <td>730.000000</td>\n",
       "    </tr>\n",
       "    <tr>\n",
       "      <th>mean</th>\n",
       "      <td>365.500000</td>\n",
       "      <td>2.498630</td>\n",
       "      <td>0.500000</td>\n",
       "      <td>6.526027</td>\n",
       "      <td>0.028767</td>\n",
       "      <td>2.995890</td>\n",
       "      <td>0.690411</td>\n",
       "      <td>1.394521</td>\n",
       "      <td>20.319259</td>\n",
       "      <td>23.726322</td>\n",
       "      <td>62.765175</td>\n",
       "      <td>12.763620</td>\n",
       "      <td>849.249315</td>\n",
       "      <td>3658.757534</td>\n",
       "      <td>4508.006849</td>\n",
       "    </tr>\n",
       "    <tr>\n",
       "      <th>std</th>\n",
       "      <td>210.877136</td>\n",
       "      <td>1.110184</td>\n",
       "      <td>0.500343</td>\n",
       "      <td>3.450215</td>\n",
       "      <td>0.167266</td>\n",
       "      <td>2.000339</td>\n",
       "      <td>0.462641</td>\n",
       "      <td>0.544807</td>\n",
       "      <td>7.506729</td>\n",
       "      <td>8.150308</td>\n",
       "      <td>14.237589</td>\n",
       "      <td>5.195841</td>\n",
       "      <td>686.479875</td>\n",
       "      <td>1559.758728</td>\n",
       "      <td>1936.011647</td>\n",
       "    </tr>\n",
       "    <tr>\n",
       "      <th>min</th>\n",
       "      <td>1.000000</td>\n",
       "      <td>1.000000</td>\n",
       "      <td>0.000000</td>\n",
       "      <td>1.000000</td>\n",
       "      <td>0.000000</td>\n",
       "      <td>0.000000</td>\n",
       "      <td>0.000000</td>\n",
       "      <td>1.000000</td>\n",
       "      <td>2.424346</td>\n",
       "      <td>3.953480</td>\n",
       "      <td>0.000000</td>\n",
       "      <td>1.500244</td>\n",
       "      <td>2.000000</td>\n",
       "      <td>20.000000</td>\n",
       "      <td>22.000000</td>\n",
       "    </tr>\n",
       "    <tr>\n",
       "      <th>25%</th>\n",
       "      <td>183.250000</td>\n",
       "      <td>2.000000</td>\n",
       "      <td>0.000000</td>\n",
       "      <td>4.000000</td>\n",
       "      <td>0.000000</td>\n",
       "      <td>1.000000</td>\n",
       "      <td>0.000000</td>\n",
       "      <td>1.000000</td>\n",
       "      <td>13.811885</td>\n",
       "      <td>16.889713</td>\n",
       "      <td>52.000000</td>\n",
       "      <td>9.041650</td>\n",
       "      <td>316.250000</td>\n",
       "      <td>2502.250000</td>\n",
       "      <td>3169.750000</td>\n",
       "    </tr>\n",
       "    <tr>\n",
       "      <th>50%</th>\n",
       "      <td>365.500000</td>\n",
       "      <td>3.000000</td>\n",
       "      <td>0.500000</td>\n",
       "      <td>7.000000</td>\n",
       "      <td>0.000000</td>\n",
       "      <td>3.000000</td>\n",
       "      <td>1.000000</td>\n",
       "      <td>1.000000</td>\n",
       "      <td>20.465826</td>\n",
       "      <td>24.368225</td>\n",
       "      <td>62.625000</td>\n",
       "      <td>12.125325</td>\n",
       "      <td>717.000000</td>\n",
       "      <td>3664.500000</td>\n",
       "      <td>4548.500000</td>\n",
       "    </tr>\n",
       "    <tr>\n",
       "      <th>75%</th>\n",
       "      <td>547.750000</td>\n",
       "      <td>3.000000</td>\n",
       "      <td>1.000000</td>\n",
       "      <td>10.000000</td>\n",
       "      <td>0.000000</td>\n",
       "      <td>5.000000</td>\n",
       "      <td>1.000000</td>\n",
       "      <td>2.000000</td>\n",
       "      <td>26.880615</td>\n",
       "      <td>30.445775</td>\n",
       "      <td>72.989575</td>\n",
       "      <td>15.625589</td>\n",
       "      <td>1096.500000</td>\n",
       "      <td>4783.250000</td>\n",
       "      <td>5966.000000</td>\n",
       "    </tr>\n",
       "    <tr>\n",
       "      <th>max</th>\n",
       "      <td>730.000000</td>\n",
       "      <td>4.000000</td>\n",
       "      <td>1.000000</td>\n",
       "      <td>12.000000</td>\n",
       "      <td>1.000000</td>\n",
       "      <td>6.000000</td>\n",
       "      <td>1.000000</td>\n",
       "      <td>3.000000</td>\n",
       "      <td>35.328347</td>\n",
       "      <td>42.044800</td>\n",
       "      <td>97.250000</td>\n",
       "      <td>34.000021</td>\n",
       "      <td>3410.000000</td>\n",
       "      <td>6946.000000</td>\n",
       "      <td>8714.000000</td>\n",
       "    </tr>\n",
       "  </tbody>\n",
       "</table>\n",
       "</div>"
      ],
      "text/plain": [
       "          instant      season          yr        mnth     holiday     weekday  \\\n",
       "count  730.000000  730.000000  730.000000  730.000000  730.000000  730.000000   \n",
       "mean   365.500000    2.498630    0.500000    6.526027    0.028767    2.995890   \n",
       "std    210.877136    1.110184    0.500343    3.450215    0.167266    2.000339   \n",
       "min      1.000000    1.000000    0.000000    1.000000    0.000000    0.000000   \n",
       "25%    183.250000    2.000000    0.000000    4.000000    0.000000    1.000000   \n",
       "50%    365.500000    3.000000    0.500000    7.000000    0.000000    3.000000   \n",
       "75%    547.750000    3.000000    1.000000   10.000000    0.000000    5.000000   \n",
       "max    730.000000    4.000000    1.000000   12.000000    1.000000    6.000000   \n",
       "\n",
       "       workingday  weathersit        temp       atemp         hum   windspeed  \\\n",
       "count  730.000000  730.000000  730.000000  730.000000  730.000000  730.000000   \n",
       "mean     0.690411    1.394521   20.319259   23.726322   62.765175   12.763620   \n",
       "std      0.462641    0.544807    7.506729    8.150308   14.237589    5.195841   \n",
       "min      0.000000    1.000000    2.424346    3.953480    0.000000    1.500244   \n",
       "25%      0.000000    1.000000   13.811885   16.889713   52.000000    9.041650   \n",
       "50%      1.000000    1.000000   20.465826   24.368225   62.625000   12.125325   \n",
       "75%      1.000000    2.000000   26.880615   30.445775   72.989575   15.625589   \n",
       "max      1.000000    3.000000   35.328347   42.044800   97.250000   34.000021   \n",
       "\n",
       "            casual   registered          cnt  \n",
       "count   730.000000   730.000000   730.000000  \n",
       "mean    849.249315  3658.757534  4508.006849  \n",
       "std     686.479875  1559.758728  1936.011647  \n",
       "min       2.000000    20.000000    22.000000  \n",
       "25%     316.250000  2502.250000  3169.750000  \n",
       "50%     717.000000  3664.500000  4548.500000  \n",
       "75%    1096.500000  4783.250000  5966.000000  \n",
       "max    3410.000000  6946.000000  8714.000000  "
      ]
     },
     "execution_count": 104,
     "metadata": {},
     "output_type": "execute_result"
    }
   ],
   "source": [
    "#describing the numerical data\n",
    "\n",
    "df.describe()"
   ]
  },
  {
   "cell_type": "markdown",
   "metadata": {},
   "source": [
    "## 3. Cleaning the data"
   ]
  },
  {
   "cell_type": "markdown",
   "metadata": {},
   "source": [
    "### 3.1 Dropping the columns which are not useful"
   ]
  },
  {
   "cell_type": "code",
   "execution_count": 105,
   "metadata": {},
   "outputs": [
    {
     "data": {
      "text/html": [
       "<div>\n",
       "<style scoped>\n",
       "    .dataframe tbody tr th:only-of-type {\n",
       "        vertical-align: middle;\n",
       "    }\n",
       "\n",
       "    .dataframe tbody tr th {\n",
       "        vertical-align: top;\n",
       "    }\n",
       "\n",
       "    .dataframe thead th {\n",
       "        text-align: right;\n",
       "    }\n",
       "</style>\n",
       "<table border=\"1\" class=\"dataframe\">\n",
       "  <thead>\n",
       "    <tr style=\"text-align: right;\">\n",
       "      <th></th>\n",
       "      <th>season</th>\n",
       "      <th>yr</th>\n",
       "      <th>mnth</th>\n",
       "      <th>holiday</th>\n",
       "      <th>weekday</th>\n",
       "      <th>workingday</th>\n",
       "      <th>weathersit</th>\n",
       "      <th>temp</th>\n",
       "      <th>atemp</th>\n",
       "      <th>hum</th>\n",
       "      <th>windspeed</th>\n",
       "      <th>cnt</th>\n",
       "    </tr>\n",
       "  </thead>\n",
       "  <tbody>\n",
       "    <tr>\n",
       "      <th>0</th>\n",
       "      <td>1</td>\n",
       "      <td>0</td>\n",
       "      <td>1</td>\n",
       "      <td>0</td>\n",
       "      <td>1</td>\n",
       "      <td>1</td>\n",
       "      <td>2</td>\n",
       "      <td>14.110847</td>\n",
       "      <td>18.18125</td>\n",
       "      <td>80.5833</td>\n",
       "      <td>10.749882</td>\n",
       "      <td>985</td>\n",
       "    </tr>\n",
       "    <tr>\n",
       "      <th>1</th>\n",
       "      <td>1</td>\n",
       "      <td>0</td>\n",
       "      <td>1</td>\n",
       "      <td>0</td>\n",
       "      <td>2</td>\n",
       "      <td>1</td>\n",
       "      <td>2</td>\n",
       "      <td>14.902598</td>\n",
       "      <td>17.68695</td>\n",
       "      <td>69.6087</td>\n",
       "      <td>16.652113</td>\n",
       "      <td>801</td>\n",
       "    </tr>\n",
       "    <tr>\n",
       "      <th>2</th>\n",
       "      <td>1</td>\n",
       "      <td>0</td>\n",
       "      <td>1</td>\n",
       "      <td>0</td>\n",
       "      <td>3</td>\n",
       "      <td>1</td>\n",
       "      <td>1</td>\n",
       "      <td>8.050924</td>\n",
       "      <td>9.47025</td>\n",
       "      <td>43.7273</td>\n",
       "      <td>16.636703</td>\n",
       "      <td>1349</td>\n",
       "    </tr>\n",
       "    <tr>\n",
       "      <th>3</th>\n",
       "      <td>1</td>\n",
       "      <td>0</td>\n",
       "      <td>1</td>\n",
       "      <td>0</td>\n",
       "      <td>4</td>\n",
       "      <td>1</td>\n",
       "      <td>1</td>\n",
       "      <td>8.200000</td>\n",
       "      <td>10.60610</td>\n",
       "      <td>59.0435</td>\n",
       "      <td>10.739832</td>\n",
       "      <td>1562</td>\n",
       "    </tr>\n",
       "    <tr>\n",
       "      <th>4</th>\n",
       "      <td>1</td>\n",
       "      <td>0</td>\n",
       "      <td>1</td>\n",
       "      <td>0</td>\n",
       "      <td>5</td>\n",
       "      <td>1</td>\n",
       "      <td>1</td>\n",
       "      <td>9.305237</td>\n",
       "      <td>11.46350</td>\n",
       "      <td>43.6957</td>\n",
       "      <td>12.522300</td>\n",
       "      <td>1600</td>\n",
       "    </tr>\n",
       "  </tbody>\n",
       "</table>\n",
       "</div>"
      ],
      "text/plain": [
       "   season  yr  mnth  holiday  weekday  workingday  weathersit       temp  \\\n",
       "0       1   0     1        0        1           1           2  14.110847   \n",
       "1       1   0     1        0        2           1           2  14.902598   \n",
       "2       1   0     1        0        3           1           1   8.050924   \n",
       "3       1   0     1        0        4           1           1   8.200000   \n",
       "4       1   0     1        0        5           1           1   9.305237   \n",
       "\n",
       "      atemp      hum  windspeed   cnt  \n",
       "0  18.18125  80.5833  10.749882   985  \n",
       "1  17.68695  69.6087  16.652113   801  \n",
       "2   9.47025  43.7273  16.636703  1349  \n",
       "3  10.60610  59.0435  10.739832  1562  \n",
       "4  11.46350  43.6957  12.522300  1600  "
      ]
     },
     "execution_count": 105,
     "metadata": {},
     "output_type": "execute_result"
    }
   ],
   "source": [
    "#As from dataset, we can see that cnt column is sum of casual & register column. So dropping the the two column.\n",
    "#Removing column instant as it has indexing number\n",
    "#Removing column dteday as all the informations are available related to year, month etc in other columns\n",
    "#Creating a new dataset\n",
    "\n",
    "df_bike = df.drop(['casual' , 'registered', 'instant', 'dteday'], axis=1)\n",
    "df_bike.head(5)"
   ]
  },
  {
   "cell_type": "markdown",
   "metadata": {},
   "source": [
    "### 3.2 Converting the categorical columns to data type category"
   ]
  },
  {
   "cell_type": "code",
   "execution_count": 106,
   "metadata": {},
   "outputs": [
    {
     "data": {
      "text/html": [
       "<div>\n",
       "<style scoped>\n",
       "    .dataframe tbody tr th:only-of-type {\n",
       "        vertical-align: middle;\n",
       "    }\n",
       "\n",
       "    .dataframe tbody tr th {\n",
       "        vertical-align: top;\n",
       "    }\n",
       "\n",
       "    .dataframe thead th {\n",
       "        text-align: right;\n",
       "    }\n",
       "</style>\n",
       "<table border=\"1\" class=\"dataframe\">\n",
       "  <thead>\n",
       "    <tr style=\"text-align: right;\">\n",
       "      <th></th>\n",
       "      <th>season</th>\n",
       "      <th>yr</th>\n",
       "      <th>mnth</th>\n",
       "      <th>holiday</th>\n",
       "      <th>weekday</th>\n",
       "      <th>workingday</th>\n",
       "      <th>weathersit</th>\n",
       "      <th>temp</th>\n",
       "      <th>atemp</th>\n",
       "      <th>hum</th>\n",
       "      <th>windspeed</th>\n",
       "      <th>cnt</th>\n",
       "    </tr>\n",
       "  </thead>\n",
       "  <tbody>\n",
       "    <tr>\n",
       "      <th>0</th>\n",
       "      <td>spring</td>\n",
       "      <td>2018</td>\n",
       "      <td>Jan</td>\n",
       "      <td>No</td>\n",
       "      <td>Mon</td>\n",
       "      <td>Yes</td>\n",
       "      <td>Mist + Cloudy</td>\n",
       "      <td>14.110847</td>\n",
       "      <td>18.18125</td>\n",
       "      <td>80.5833</td>\n",
       "      <td>10.749882</td>\n",
       "      <td>985</td>\n",
       "    </tr>\n",
       "    <tr>\n",
       "      <th>1</th>\n",
       "      <td>spring</td>\n",
       "      <td>2018</td>\n",
       "      <td>Jan</td>\n",
       "      <td>No</td>\n",
       "      <td>Tue</td>\n",
       "      <td>Yes</td>\n",
       "      <td>Mist + Cloudy</td>\n",
       "      <td>14.902598</td>\n",
       "      <td>17.68695</td>\n",
       "      <td>69.6087</td>\n",
       "      <td>16.652113</td>\n",
       "      <td>801</td>\n",
       "    </tr>\n",
       "    <tr>\n",
       "      <th>2</th>\n",
       "      <td>spring</td>\n",
       "      <td>2018</td>\n",
       "      <td>Jan</td>\n",
       "      <td>No</td>\n",
       "      <td>Wed</td>\n",
       "      <td>Yes</td>\n",
       "      <td>Clear</td>\n",
       "      <td>8.050924</td>\n",
       "      <td>9.47025</td>\n",
       "      <td>43.7273</td>\n",
       "      <td>16.636703</td>\n",
       "      <td>1349</td>\n",
       "    </tr>\n",
       "    <tr>\n",
       "      <th>3</th>\n",
       "      <td>spring</td>\n",
       "      <td>2018</td>\n",
       "      <td>Jan</td>\n",
       "      <td>No</td>\n",
       "      <td>Thu</td>\n",
       "      <td>Yes</td>\n",
       "      <td>Clear</td>\n",
       "      <td>8.200000</td>\n",
       "      <td>10.60610</td>\n",
       "      <td>59.0435</td>\n",
       "      <td>10.739832</td>\n",
       "      <td>1562</td>\n",
       "    </tr>\n",
       "    <tr>\n",
       "      <th>4</th>\n",
       "      <td>spring</td>\n",
       "      <td>2018</td>\n",
       "      <td>Jan</td>\n",
       "      <td>No</td>\n",
       "      <td>Fri</td>\n",
       "      <td>Yes</td>\n",
       "      <td>Clear</td>\n",
       "      <td>9.305237</td>\n",
       "      <td>11.46350</td>\n",
       "      <td>43.6957</td>\n",
       "      <td>12.522300</td>\n",
       "      <td>1600</td>\n",
       "    </tr>\n",
       "  </tbody>\n",
       "</table>\n",
       "</div>"
      ],
      "text/plain": [
       "   season    yr mnth holiday weekday workingday     weathersit       temp  \\\n",
       "0  spring  2018  Jan      No     Mon        Yes  Mist + Cloudy  14.110847   \n",
       "1  spring  2018  Jan      No     Tue        Yes  Mist + Cloudy  14.902598   \n",
       "2  spring  2018  Jan      No     Wed        Yes          Clear   8.050924   \n",
       "3  spring  2018  Jan      No     Thu        Yes          Clear   8.200000   \n",
       "4  spring  2018  Jan      No     Fri        Yes          Clear   9.305237   \n",
       "\n",
       "      atemp      hum  windspeed   cnt  \n",
       "0  18.18125  80.5833  10.749882   985  \n",
       "1  17.68695  69.6087  16.652113   801  \n",
       "2   9.47025  43.7273  16.636703  1349  \n",
       "3  10.60610  59.0435  10.739832  1562  \n",
       "4  11.46350  43.6957  12.522300  1600  "
      ]
     },
     "execution_count": 106,
     "metadata": {},
     "output_type": "execute_result"
    }
   ],
   "source": [
    "#Coverting the columns season, ye, mnth, holiday, weekday to categorical and mapping the variables\n",
    "\n",
    "df_bike['season']=df_bike.season.replace({1:'spring', 2:'summer', 3:'fall', 4:'winter'}).astype('category')\n",
    "df_bike['yr']=df_bike.yr.replace({0: 2018, 1:2019}).astype('category')\n",
    "df_bike['mnth']=df_bike.mnth.replace({1:'Jan',2:'Feb',3:'Mar', 4:'Apr', 5:'May', 6:'Jun', 7:'Jul', 8:'Aug', 9:'Sep', 10:'Oct', 11:'Nov', 12:'Dec'}).astype('category')\n",
    "df_bike['holiday']=df_bike.holiday.replace({0:'No', 1:'Yes'}).astype('category')\n",
    "df_bike['weekday']=df_bike.weekday.replace({0:'Sun', 1:'Mon', 2:'Tue', 3:'Wed', 4:'Thu', 5:'Fri', 6:'Sat'}).astype('category')\n",
    "df_bike['workingday']=df_bike.workingday.replace({0:'No', 1:'Yes'}).astype('category')\n",
    "df_bike['weathersit']=df_bike.weathersit.replace({1:'Clear', 2:'Mist + Cloudy', 3:'Light Snow', 4:'Snow + Fog'}).astype('category')\n",
    "\n",
    "\n",
    "df_bike.head(5)"
   ]
  },
  {
   "cell_type": "code",
   "execution_count": 107,
   "metadata": {},
   "outputs": [
    {
     "data": {
      "text/plain": [
       "(730, 12)"
      ]
     },
     "execution_count": 107,
     "metadata": {},
     "output_type": "execute_result"
    }
   ],
   "source": [
    "#checking shape of new dataframe\n",
    "df_bike.shape"
   ]
  },
  {
   "cell_type": "code",
   "execution_count": 108,
   "metadata": {},
   "outputs": [
    {
     "name": "stdout",
     "output_type": "stream",
     "text": [
      "<class 'pandas.core.frame.DataFrame'>\n",
      "RangeIndex: 730 entries, 0 to 729\n",
      "Data columns (total 12 columns):\n",
      " #   Column      Non-Null Count  Dtype   \n",
      "---  ------      --------------  -----   \n",
      " 0   season      730 non-null    category\n",
      " 1   yr          730 non-null    category\n",
      " 2   mnth        730 non-null    category\n",
      " 3   holiday     730 non-null    category\n",
      " 4   weekday     730 non-null    category\n",
      " 5   workingday  730 non-null    category\n",
      " 6   weathersit  730 non-null    category\n",
      " 7   temp        730 non-null    float64 \n",
      " 8   atemp       730 non-null    float64 \n",
      " 9   hum         730 non-null    float64 \n",
      " 10  windspeed   730 non-null    float64 \n",
      " 11  cnt         730 non-null    int64   \n",
      "dtypes: category(7), float64(4), int64(1)\n",
      "memory usage: 35.0 KB\n"
     ]
    }
   ],
   "source": [
    "#Checking the column-wise info of the dataframe\n",
    "\n",
    "df_bike.info()"
   ]
  },
  {
   "cell_type": "code",
   "execution_count": 109,
   "metadata": {},
   "outputs": [
    {
     "data": {
      "text/html": [
       "<div>\n",
       "<style scoped>\n",
       "    .dataframe tbody tr th:only-of-type {\n",
       "        vertical-align: middle;\n",
       "    }\n",
       "\n",
       "    .dataframe tbody tr th {\n",
       "        vertical-align: top;\n",
       "    }\n",
       "\n",
       "    .dataframe thead th {\n",
       "        text-align: right;\n",
       "    }\n",
       "</style>\n",
       "<table border=\"1\" class=\"dataframe\">\n",
       "  <thead>\n",
       "    <tr style=\"text-align: right;\">\n",
       "      <th></th>\n",
       "      <th>temp</th>\n",
       "      <th>atemp</th>\n",
       "      <th>hum</th>\n",
       "      <th>windspeed</th>\n",
       "      <th>cnt</th>\n",
       "    </tr>\n",
       "  </thead>\n",
       "  <tbody>\n",
       "    <tr>\n",
       "      <th>count</th>\n",
       "      <td>730.000000</td>\n",
       "      <td>730.000000</td>\n",
       "      <td>730.000000</td>\n",
       "      <td>730.000000</td>\n",
       "      <td>730.000000</td>\n",
       "    </tr>\n",
       "    <tr>\n",
       "      <th>mean</th>\n",
       "      <td>20.319259</td>\n",
       "      <td>23.726322</td>\n",
       "      <td>62.765175</td>\n",
       "      <td>12.763620</td>\n",
       "      <td>4508.006849</td>\n",
       "    </tr>\n",
       "    <tr>\n",
       "      <th>std</th>\n",
       "      <td>7.506729</td>\n",
       "      <td>8.150308</td>\n",
       "      <td>14.237589</td>\n",
       "      <td>5.195841</td>\n",
       "      <td>1936.011647</td>\n",
       "    </tr>\n",
       "    <tr>\n",
       "      <th>min</th>\n",
       "      <td>2.424346</td>\n",
       "      <td>3.953480</td>\n",
       "      <td>0.000000</td>\n",
       "      <td>1.500244</td>\n",
       "      <td>22.000000</td>\n",
       "    </tr>\n",
       "    <tr>\n",
       "      <th>25%</th>\n",
       "      <td>13.811885</td>\n",
       "      <td>16.889713</td>\n",
       "      <td>52.000000</td>\n",
       "      <td>9.041650</td>\n",
       "      <td>3169.750000</td>\n",
       "    </tr>\n",
       "    <tr>\n",
       "      <th>50%</th>\n",
       "      <td>20.465826</td>\n",
       "      <td>24.368225</td>\n",
       "      <td>62.625000</td>\n",
       "      <td>12.125325</td>\n",
       "      <td>4548.500000</td>\n",
       "    </tr>\n",
       "    <tr>\n",
       "      <th>75%</th>\n",
       "      <td>26.880615</td>\n",
       "      <td>30.445775</td>\n",
       "      <td>72.989575</td>\n",
       "      <td>15.625589</td>\n",
       "      <td>5966.000000</td>\n",
       "    </tr>\n",
       "    <tr>\n",
       "      <th>max</th>\n",
       "      <td>35.328347</td>\n",
       "      <td>42.044800</td>\n",
       "      <td>97.250000</td>\n",
       "      <td>34.000021</td>\n",
       "      <td>8714.000000</td>\n",
       "    </tr>\n",
       "  </tbody>\n",
       "</table>\n",
       "</div>"
      ],
      "text/plain": [
       "             temp       atemp         hum   windspeed          cnt\n",
       "count  730.000000  730.000000  730.000000  730.000000   730.000000\n",
       "mean    20.319259   23.726322   62.765175   12.763620  4508.006849\n",
       "std      7.506729    8.150308   14.237589    5.195841  1936.011647\n",
       "min      2.424346    3.953480    0.000000    1.500244    22.000000\n",
       "25%     13.811885   16.889713   52.000000    9.041650  3169.750000\n",
       "50%     20.465826   24.368225   62.625000   12.125325  4548.500000\n",
       "75%     26.880615   30.445775   72.989575   15.625589  5966.000000\n",
       "max     35.328347   42.044800   97.250000   34.000021  8714.000000"
      ]
     },
     "execution_count": 109,
     "metadata": {},
     "output_type": "execute_result"
    }
   ],
   "source": [
    "#describing the numerical data\n",
    "\n",
    "df_bike.describe()"
   ]
  },
  {
   "cell_type": "markdown",
   "metadata": {},
   "source": [
    "# 4. Exploratory Data Analysis "
   ]
  },
  {
   "cell_type": "markdown",
   "metadata": {},
   "source": [
    "### 4.1 EDA graph plot on numerical features"
   ]
  },
  {
   "cell_type": "code",
   "execution_count": 110,
   "metadata": {},
   "outputs": [
    {
     "data": {
      "image/png": "[encoded data removed]",
      "text/plain": [
       "<Figure size 432x288 with 1 Axes>"
      ]
     },
     "metadata": {
      "needs_background": "light"
     },
     "output_type": "display_data"
    }
   ],
   "source": [
    "# Plotting scatter plot to check the Total number of bikes rented as per the temperature.\n",
    "\n",
    "plt.scatter(df_bike['temp'], df_bike['cnt'])\n",
    "plt.suptitle('Temp v/s Cnt')\n",
    "plt.xlabel('temperature in Celsius ')\n",
    "plt.ylabel('Number of bikes rented')\n",
    "plt.show()"
   ]
  },
  {
   "cell_type": "code",
   "execution_count": 111,
   "metadata": {},
   "outputs": [
    {
     "data": {
      "image/png": "[encoded data removed]",
      "text/plain": [
       "<Figure size 432x288 with 1 Axes>"
      ]
     },
     "metadata": {
      "needs_background": "light"
     },
     "output_type": "display_data"
    }
   ],
   "source": [
    "# Regression plot for temp and cnt\n",
    "\n",
    "temp_cnt=sns.regplot(x='temp' , y='cnt' , data=df_bike)"
   ]
  },
  {
   "cell_type": "markdown",
   "metadata": {},
   "source": [
    "By seeing the graph, we can say:\n",
    "\n",
    "As the temperature rises the total count of the bikes got rented also increased.\n",
    "\n",
    "After 30 degree celsuis temperature, there is reduction in renting bikes. "
   ]
  },
  {
   "cell_type": "code",
   "execution_count": 112,
   "metadata": {},
   "outputs": [
    {
     "data": {
      "image/png": "[encoded data removed]",
      "text/plain": [
       "<Figure size 432x288 with 1 Axes>"
      ]
     },
     "metadata": {
      "needs_background": "light"
     },
     "output_type": "display_data"
    }
   ],
   "source": [
    "# Plotting scatter plot to check the Total number of bikes rented as per the humidity.\n",
    "\n",
    "plt.scatter(df_bike['hum'], df_bike['cnt'])\n",
    "plt.suptitle(' Humidity v/s Cnt')\n",
    "plt.xlabel('Humidity')\n",
    "plt.ylabel('count of total rental bikes')\n",
    "plt.show()"
   ]
  },
  {
   "cell_type": "code",
   "execution_count": 113,
   "metadata": {},
   "outputs": [
    {
     "data": {
      "image/png": "[encoded data removed]",
      "text/plain": [
       "<Figure size 432x288 with 1 Axes>"
      ]
     },
     "metadata": {
      "needs_background": "light"
     },
     "output_type": "display_data"
    }
   ],
   "source": [
    "# Regression plot for humidity and cnt\n",
    "\n",
    "temp_cnt=sns.regplot(x='hum' , y='cnt' , data=df_bike)"
   ]
  },
  {
   "cell_type": "markdown",
   "metadata": {},
   "source": [
    "From the scatter plot we can say that there is rise in bike renting when Humidity is above 35 and slowly the bike renting falls down when the humidity increases more than 80."
   ]
  },
  {
   "cell_type": "code",
   "execution_count": 114,
   "metadata": {},
   "outputs": [
    {
     "data": {
      "image/png": "[encoded data removed]",
      "text/plain": [
       "<Figure size 432x288 with 1 Axes>"
      ]
     },
     "metadata": {
      "needs_background": "light"
     },
     "output_type": "display_data"
    }
   ],
   "source": [
    "# Plotting scatter plot to check the Total number of bikes rented as per the feeling temperature.\n",
    "\n",
    "plt.scatter(df_bike['atemp'], df_bike['cnt'])\n",
    "plt.suptitle('feeling temperature v/s Cnt')\n",
    "plt.xlabel('feeling temperature in Celsius ')\n",
    "plt.ylabel('Number of bikes rented')\n",
    "plt.show()"
   ]
  },
  {
   "cell_type": "code",
   "execution_count": 115,
   "metadata": {},
   "outputs": [
    {
     "data": {
      "image/png": "[encoded data removed]",
      "text/plain": [
       "<Figure size 432x288 with 1 Axes>"
      ]
     },
     "metadata": {
      "needs_background": "light"
     },
     "output_type": "display_data"
    }
   ],
   "source": [
    "# Regression plot for atemp and cnt\n",
    "\n",
    "temp_cnt=sns.regplot(x='atemp' , y='cnt' , data=df_bike)"
   ]
  },
  {
   "cell_type": "markdown",
   "metadata": {},
   "source": [
    "By seeing the graph, we can say:\n",
    "\n",
    "As per the rise in feeling temperature the total count of the bikes got rented also increased.\n",
    "\n",
    "After 30 degree celsuis temperature, there is reduction in renting the bikes. "
   ]
  },
  {
   "cell_type": "code",
   "execution_count": 116,
   "metadata": {},
   "outputs": [
    {
     "data": {
      "image/png": "[encoded data removed]",
      "text/plain": [
       "<Figure size 432x288 with 1 Axes>"
      ]
     },
     "metadata": {
      "needs_background": "light"
     },
     "output_type": "display_data"
    }
   ],
   "source": [
    "# Plotting scatter plot to check the Total number of bikes rented as per the Windspeed.\n",
    "\n",
    "plt.scatter(df_bike['windspeed'], df_bike['cnt'])\n",
    "plt.suptitle('Wind speed v/s Cnt')\n",
    "plt.xlabel('wind speed')\n",
    "plt.ylabel('Number of bikes rented')\n",
    "plt.show()"
   ]
  },
  {
   "cell_type": "code",
   "execution_count": 117,
   "metadata": {},
   "outputs": [
    {
     "data": {
      "image/png": "[encoded data removed]",
      "text/plain": [
       "<Figure size 432x288 with 1 Axes>"
      ]
     },
     "metadata": {
      "needs_background": "light"
     },
     "output_type": "display_data"
    }
   ],
   "source": [
    "# Regression plot for Windspeed and cnt\n",
    "temp_cnt=sns.regplot(x='windspeed' , y='cnt' , data=df_bike)"
   ]
  },
  {
   "cell_type": "markdown",
   "metadata": {},
   "source": [
    "It is very clear from the graph that the wind speed and bike rental are inversely proportional."
   ]
  },
  {
   "cell_type": "markdown",
   "metadata": {},
   "source": [
    "### 4.2 EDA graph plot on categorical features"
   ]
  },
  {
   "cell_type": "code",
   "execution_count": 118,
   "metadata": {},
   "outputs": [
    {
     "data": {
      "image/png": "[encoded data removed]",
      "text/plain": [
       "<Figure size 936x432 with 2 Axes>"
      ]
     },
     "metadata": {
      "needs_background": "light"
     },
     "output_type": "display_data"
    }
   ],
   "source": [
    "#Subplotting the bar graphs for the total count og bike rentals by season & weathersit\n",
    "\n",
    "f,  (ax1, ax2)  =  plt.subplots(nrows=1, ncols=2, figsize=(13, 6))\n",
    "\n",
    "ax1 = df_bike[['season','cnt']].groupby(['season']).sum().plot(kind='bar', title =\"Total counts of Bike Rentals by season\", fontsize=12, ax=ax1)\n",
    "ax1.set_xlabel(\"season\", fontsize=12)\n",
    "ax1.set_ylabel(\"Count\", fontsize=12)\n",
    "\n",
    " \n",
    "ax2 = df_bike[['weathersit','cnt']].groupby(['weathersit']).sum().plot(kind='bar', stacked=True, title =\"Total counts of Bike Rentals by weathersit\", fontsize=12, ax=ax2)\n",
    "\n",
    "ax2.set_xlabel(\"weathersit\", fontsize=12)\n",
    "ax2.set_ylabel(\"Count\", fontsize=12)\n",
    "\n",
    "f.tight_layout()"
   ]
  },
  {
   "cell_type": "markdown",
   "metadata": {},
   "source": [
    " The above graph shows:\n",
    " \n",
    "    1) In the fall season, the bikes are rented the most\n",
    "    \n",
    "    2) People tends to rent more bike in clear weather\n",
    "\n"
   ]
  },
  {
   "cell_type": "code",
   "execution_count": 119,
   "metadata": {},
   "outputs": [
    {
     "data": {
      "image/png": "[encoded data removed]",
      "text/plain": [
       "<Figure size 936x432 with 2 Axes>"
      ]
     },
     "metadata": {
      "needs_background": "light"
     },
     "output_type": "display_data"
    }
   ],
   "source": [
    "#Subplotting the bar graphs for the total count og bike rentals by Holiday & weekdays\n",
    "\n",
    "\n",
    "f,  (ax1, ax2)  =  plt.subplots(nrows=1, ncols=2, figsize=(13, 6))\n",
    "\n",
    "ax1 = df_bike[['holiday','cnt']].groupby(['holiday']).sum().plot(kind='bar', stacked=True,title =\"Total counts of Bike Rentals by holidays\", fontsize=12, ax=ax1)\n",
    "ax1.set_xlabel(\"Holiday\", fontsize=12)\n",
    "ax1.set_ylabel(\"Count\", fontsize=12)\n",
    "\n",
    " \n",
    "ax2 = df_bike[['weekday','cnt']].groupby(['weekday']).sum().plot(kind='bar', stacked=True, title =\"Total counts of Bike Rentals by weekdays\", fontsize=12, ax=ax2)\n",
    "\n",
    "ax2.set_xlabel(\"Weekdays\", fontsize=12)\n",
    "ax2.set_ylabel(\"Count\", fontsize=12)\n",
    "\n",
    "f.tight_layout()"
   ]
  },
  {
   "cell_type": "markdown",
   "metadata": {},
   "source": [
    "The above graph shows:\n",
    "    \n",
    "    1) Mostly people will rent bikes when there is no holidays\n",
    " \n",
    "    2) Almost everyday the count of bike renting is above 400000\n"
   ]
  },
  {
   "cell_type": "markdown",
   "metadata": {},
   "source": [
    "### 4.3 Drawing correlation using Heatmap"
   ]
  },
  {
   "cell_type": "code",
   "execution_count": 120,
   "metadata": {},
   "outputs": [
    {
     "data": {
      "image/png": "[encoded data removed]",
      "text/plain": [
       "<Figure size 1800x720 with 2 Axes>"
      ]
     },
     "metadata": {
      "needs_background": "light"
     },
     "output_type": "display_data"
    }
   ],
   "source": [
    "#Calculating the Correlation for numerical/regression values\n",
    "corr = df_bike.corr()\n",
    "plt.figure(figsize=(25,10))\n",
    "\n",
    "#Drawing Heatmap of correlation for numerical values\n",
    "sns.heatmap(corr,annot=True, cmap='YlGnBu' )\n",
    "plt.show()"
   ]
  },
  {
   "cell_type": "markdown",
   "metadata": {},
   "source": [
    "Inferences:\n",
    "\n",
    "From the heat map, we can say that atemp and temp is highly correlated.\n",
    "\n",
    "Temp and Atemp also have high correlation with cnt variable.\n"
   ]
  },
  {
   "cell_type": "markdown",
   "metadata": {},
   "source": [
    "## 5. Preparing data for Linear Regression"
   ]
  },
  {
   "cell_type": "markdown",
   "metadata": {},
   "source": [
    "### 5.1 Creating dummy variables for all categorical variables"
   ]
  },
  {
   "cell_type": "code",
   "execution_count": 121,
   "metadata": {},
   "outputs": [
    {
     "name": "stdout",
     "output_type": "stream",
     "text": [
      "<class 'pandas.core.frame.DataFrame'>\n",
      "RangeIndex: 730 entries, 0 to 729\n",
      "Data columns (total 30 columns):\n",
      " #   Column                    Non-Null Count  Dtype  \n",
      "---  ------                    --------------  -----  \n",
      " 0   temp                      730 non-null    float64\n",
      " 1   atemp                     730 non-null    float64\n",
      " 2   hum                       730 non-null    float64\n",
      " 3   windspeed                 730 non-null    float64\n",
      " 4   cnt                       730 non-null    int64  \n",
      " 5   season_spring             730 non-null    uint8  \n",
      " 6   season_summer             730 non-null    uint8  \n",
      " 7   season_winter             730 non-null    uint8  \n",
      " 8   yr_2019                   730 non-null    uint8  \n",
      " 9   mnth_Aug                  730 non-null    uint8  \n",
      " 10  mnth_Dec                  730 non-null    uint8  \n",
      " 11  mnth_Feb                  730 non-null    uint8  \n",
      " 12  mnth_Jan                  730 non-null    uint8  \n",
      " 13  mnth_Jul                  730 non-null    uint8  \n",
      " 14  mnth_Jun                  730 non-null    uint8  \n",
      " 15  mnth_Mar                  730 non-null    uint8  \n",
      " 16  mnth_May                  730 non-null    uint8  \n",
      " 17  mnth_Nov                  730 non-null    uint8  \n",
      " 18  mnth_Oct                  730 non-null    uint8  \n",
      " 19  mnth_Sep                  730 non-null    uint8  \n",
      " 20  holiday_Yes               730 non-null    uint8  \n",
      " 21  weekday_Mon               730 non-null    uint8  \n",
      " 22  weekday_Sat               730 non-null    uint8  \n",
      " 23  weekday_Sun               730 non-null    uint8  \n",
      " 24  weekday_Thu               730 non-null    uint8  \n",
      " 25  weekday_Tue               730 non-null    uint8  \n",
      " 26  weekday_Wed               730 non-null    uint8  \n",
      " 27  workingday_Yes            730 non-null    uint8  \n",
      " 28  weathersit_Light Snow     730 non-null    uint8  \n",
      " 29  weathersit_Mist + Cloudy  730 non-null    uint8  \n",
      "dtypes: float64(4), int64(1), uint8(25)\n",
      "memory usage: 46.5 KB\n"
     ]
    }
   ],
   "source": [
    "#Creating dummies for the categorical data:\n",
    "\n",
    "df_bike = pd.get_dummies(df_bike, drop_first=True)\n",
    "df_bike.info()"
   ]
  },
  {
   "cell_type": "code",
   "execution_count": 122,
   "metadata": {},
   "outputs": [
    {
     "data": {
      "text/plain": [
       "(730, 30)"
      ]
     },
     "execution_count": 122,
     "metadata": {},
     "output_type": "execute_result"
    }
   ],
   "source": [
    "# Shape of the dataframe post creating dummies:\n",
    "\n",
    "df_bike.shape"
   ]
  },
  {
   "cell_type": "code",
   "execution_count": 123,
   "metadata": {},
   "outputs": [
    {
     "data": {
      "text/html": [
       "<div>\n",
       "<style scoped>\n",
       "    .dataframe tbody tr th:only-of-type {\n",
       "        vertical-align: middle;\n",
       "    }\n",
       "\n",
       "    .dataframe tbody tr th {\n",
       "        vertical-align: top;\n",
       "    }\n",
       "\n",
       "    .dataframe thead th {\n",
       "        text-align: right;\n",
       "    }\n",
       "</style>\n",
       "<table border=\"1\" class=\"dataframe\">\n",
       "  <thead>\n",
       "    <tr style=\"text-align: right;\">\n",
       "      <th></th>\n",
       "      <th>temp</th>\n",
       "      <th>atemp</th>\n",
       "      <th>hum</th>\n",
       "      <th>windspeed</th>\n",
       "      <th>cnt</th>\n",
       "      <th>season_spring</th>\n",
       "      <th>season_summer</th>\n",
       "      <th>season_winter</th>\n",
       "      <th>yr_2019</th>\n",
       "      <th>mnth_Aug</th>\n",
       "      <th>...</th>\n",
       "      <th>holiday_Yes</th>\n",
       "      <th>weekday_Mon</th>\n",
       "      <th>weekday_Sat</th>\n",
       "      <th>weekday_Sun</th>\n",
       "      <th>weekday_Thu</th>\n",
       "      <th>weekday_Tue</th>\n",
       "      <th>weekday_Wed</th>\n",
       "      <th>workingday_Yes</th>\n",
       "      <th>weathersit_Light Snow</th>\n",
       "      <th>weathersit_Mist + Cloudy</th>\n",
       "    </tr>\n",
       "  </thead>\n",
       "  <tbody>\n",
       "    <tr>\n",
       "      <th>0</th>\n",
       "      <td>14.110847</td>\n",
       "      <td>18.18125</td>\n",
       "      <td>80.5833</td>\n",
       "      <td>10.749882</td>\n",
       "      <td>985</td>\n",
       "      <td>1</td>\n",
       "      <td>0</td>\n",
       "      <td>0</td>\n",
       "      <td>0</td>\n",
       "      <td>0</td>\n",
       "      <td>...</td>\n",
       "      <td>0</td>\n",
       "      <td>1</td>\n",
       "      <td>0</td>\n",
       "      <td>0</td>\n",
       "      <td>0</td>\n",
       "      <td>0</td>\n",
       "      <td>0</td>\n",
       "      <td>1</td>\n",
       "      <td>0</td>\n",
       "      <td>1</td>\n",
       "    </tr>\n",
       "    <tr>\n",
       "      <th>1</th>\n",
       "      <td>14.902598</td>\n",
       "      <td>17.68695</td>\n",
       "      <td>69.6087</td>\n",
       "      <td>16.652113</td>\n",
       "      <td>801</td>\n",
       "      <td>1</td>\n",
       "      <td>0</td>\n",
       "      <td>0</td>\n",
       "      <td>0</td>\n",
       "      <td>0</td>\n",
       "      <td>...</td>\n",
       "      <td>0</td>\n",
       "      <td>0</td>\n",
       "      <td>0</td>\n",
       "      <td>0</td>\n",
       "      <td>0</td>\n",
       "      <td>1</td>\n",
       "      <td>0</td>\n",
       "      <td>1</td>\n",
       "      <td>0</td>\n",
       "      <td>1</td>\n",
       "    </tr>\n",
       "    <tr>\n",
       "      <th>2</th>\n",
       "      <td>8.050924</td>\n",
       "      <td>9.47025</td>\n",
       "      <td>43.7273</td>\n",
       "      <td>16.636703</td>\n",
       "      <td>1349</td>\n",
       "      <td>1</td>\n",
       "      <td>0</td>\n",
       "      <td>0</td>\n",
       "      <td>0</td>\n",
       "      <td>0</td>\n",
       "      <td>...</td>\n",
       "      <td>0</td>\n",
       "      <td>0</td>\n",
       "      <td>0</td>\n",
       "      <td>0</td>\n",
       "      <td>0</td>\n",
       "      <td>0</td>\n",
       "      <td>1</td>\n",
       "      <td>1</td>\n",
       "      <td>0</td>\n",
       "      <td>0</td>\n",
       "    </tr>\n",
       "    <tr>\n",
       "      <th>3</th>\n",
       "      <td>8.200000</td>\n",
       "      <td>10.60610</td>\n",
       "      <td>59.0435</td>\n",
       "      <td>10.739832</td>\n",
       "      <td>1562</td>\n",
       "      <td>1</td>\n",
       "      <td>0</td>\n",
       "      <td>0</td>\n",
       "      <td>0</td>\n",
       "      <td>0</td>\n",
       "      <td>...</td>\n",
       "      <td>0</td>\n",
       "      <td>0</td>\n",
       "      <td>0</td>\n",
       "      <td>0</td>\n",
       "      <td>1</td>\n",
       "      <td>0</td>\n",
       "      <td>0</td>\n",
       "      <td>1</td>\n",
       "      <td>0</td>\n",
       "      <td>0</td>\n",
       "    </tr>\n",
       "    <tr>\n",
       "      <th>4</th>\n",
       "      <td>9.305237</td>\n",
       "      <td>11.46350</td>\n",
       "      <td>43.6957</td>\n",
       "      <td>12.522300</td>\n",
       "      <td>1600</td>\n",
       "      <td>1</td>\n",
       "      <td>0</td>\n",
       "      <td>0</td>\n",
       "      <td>0</td>\n",
       "      <td>0</td>\n",
       "      <td>...</td>\n",
       "      <td>0</td>\n",
       "      <td>0</td>\n",
       "      <td>0</td>\n",
       "      <td>0</td>\n",
       "      <td>0</td>\n",
       "      <td>0</td>\n",
       "      <td>0</td>\n",
       "      <td>1</td>\n",
       "      <td>0</td>\n",
       "      <td>0</td>\n",
       "    </tr>\n",
       "  </tbody>\n",
       "</table>\n",
       "<p>5 rows × 30 columns</p>\n",
       "</div>"
      ],
      "text/plain": [
       "        temp     atemp      hum  windspeed   cnt  season_spring  \\\n",
       "0  14.110847  18.18125  80.5833  10.749882   985              1   \n",
       "1  14.902598  17.68695  69.6087  16.652113   801              1   \n",
       "2   8.050924   9.47025  43.7273  16.636703  1349              1   \n",
       "3   8.200000  10.60610  59.0435  10.739832  1562              1   \n",
       "4   9.305237  11.46350  43.6957  12.522300  1600              1   \n",
       "\n",
       "   season_summer  season_winter  yr_2019  mnth_Aug  ...  holiday_Yes  \\\n",
       "0              0              0        0         0  ...            0   \n",
       "1              0              0        0         0  ...            0   \n",
       "2              0              0        0         0  ...            0   \n",
       "3              0              0        0         0  ...            0   \n",
       "4              0              0        0         0  ...            0   \n",
       "\n",
       "   weekday_Mon  weekday_Sat  weekday_Sun  weekday_Thu  weekday_Tue  \\\n",
       "0            1            0            0            0            0   \n",
       "1            0            0            0            0            1   \n",
       "2            0            0            0            0            0   \n",
       "3            0            0            0            1            0   \n",
       "4            0            0            0            0            0   \n",
       "\n",
       "   weekday_Wed  workingday_Yes  weathersit_Light Snow  \\\n",
       "0            0               1                      0   \n",
       "1            0               1                      0   \n",
       "2            1               1                      0   \n",
       "3            0               1                      0   \n",
       "4            0               1                      0   \n",
       "\n",
       "   weathersit_Mist + Cloudy  \n",
       "0                         1  \n",
       "1                         1  \n",
       "2                         0  \n",
       "3                         0  \n",
       "4                         0  \n",
       "\n",
       "[5 rows x 30 columns]"
      ]
     },
     "execution_count": 123,
     "metadata": {},
     "output_type": "execute_result"
    }
   ],
   "source": [
    "#fetching the dataset using head()\n",
    "\n",
    "df_bike.head()"
   ]
  },
  {
   "cell_type": "markdown",
   "metadata": {},
   "source": [
    "## 6. Building Model"
   ]
  },
  {
   "cell_type": "markdown",
   "metadata": {},
   "source": [
    "### 6.1 Splitting the data into 70-30 Training and test"
   ]
  },
  {
   "cell_type": "code",
   "execution_count": 124,
   "metadata": {},
   "outputs": [],
   "source": [
    "#y to contain only target variable\n",
    "y=df_bike.pop('cnt')\n",
    "\n",
    "#X is all remainign variable also our independent variables\n",
    "X=df_bike\n",
    "\n",
    "#Train Test split with 70:30 ratio\n",
    "X_train, X_test, y_train, y_test = train_test_split(X, y, test_size=0.3, random_state=50)"
   ]
  },
  {
   "cell_type": "code",
   "execution_count": 125,
   "metadata": {},
   "outputs": [
    {
     "data": {
      "text/html": [
       "<div>\n",
       "<style scoped>\n",
       "    .dataframe tbody tr th:only-of-type {\n",
       "        vertical-align: middle;\n",
       "    }\n",
       "\n",
       "    .dataframe tbody tr th {\n",
       "        vertical-align: top;\n",
       "    }\n",
       "\n",
       "    .dataframe thead th {\n",
       "        text-align: right;\n",
       "    }\n",
       "</style>\n",
       "<table border=\"1\" class=\"dataframe\">\n",
       "  <thead>\n",
       "    <tr style=\"text-align: right;\">\n",
       "      <th></th>\n",
       "      <th>temp</th>\n",
       "      <th>atemp</th>\n",
       "      <th>hum</th>\n",
       "      <th>windspeed</th>\n",
       "      <th>season_spring</th>\n",
       "      <th>season_summer</th>\n",
       "      <th>season_winter</th>\n",
       "      <th>yr_2019</th>\n",
       "      <th>mnth_Aug</th>\n",
       "      <th>mnth_Dec</th>\n",
       "      <th>...</th>\n",
       "      <th>holiday_Yes</th>\n",
       "      <th>weekday_Mon</th>\n",
       "      <th>weekday_Sat</th>\n",
       "      <th>weekday_Sun</th>\n",
       "      <th>weekday_Thu</th>\n",
       "      <th>weekday_Tue</th>\n",
       "      <th>weekday_Wed</th>\n",
       "      <th>workingday_Yes</th>\n",
       "      <th>weathersit_Light Snow</th>\n",
       "      <th>weathersit_Mist + Cloudy</th>\n",
       "    </tr>\n",
       "  </thead>\n",
       "  <tbody>\n",
       "    <tr>\n",
       "      <th>0</th>\n",
       "      <td>14.110847</td>\n",
       "      <td>18.18125</td>\n",
       "      <td>80.5833</td>\n",
       "      <td>10.749882</td>\n",
       "      <td>1</td>\n",
       "      <td>0</td>\n",
       "      <td>0</td>\n",
       "      <td>0</td>\n",
       "      <td>0</td>\n",
       "      <td>0</td>\n",
       "      <td>...</td>\n",
       "      <td>0</td>\n",
       "      <td>1</td>\n",
       "      <td>0</td>\n",
       "      <td>0</td>\n",
       "      <td>0</td>\n",
       "      <td>0</td>\n",
       "      <td>0</td>\n",
       "      <td>1</td>\n",
       "      <td>0</td>\n",
       "      <td>1</td>\n",
       "    </tr>\n",
       "    <tr>\n",
       "      <th>1</th>\n",
       "      <td>14.902598</td>\n",
       "      <td>17.68695</td>\n",
       "      <td>69.6087</td>\n",
       "      <td>16.652113</td>\n",
       "      <td>1</td>\n",
       "      <td>0</td>\n",
       "      <td>0</td>\n",
       "      <td>0</td>\n",
       "      <td>0</td>\n",
       "      <td>0</td>\n",
       "      <td>...</td>\n",
       "      <td>0</td>\n",
       "      <td>0</td>\n",
       "      <td>0</td>\n",
       "      <td>0</td>\n",
       "      <td>0</td>\n",
       "      <td>1</td>\n",
       "      <td>0</td>\n",
       "      <td>1</td>\n",
       "      <td>0</td>\n",
       "      <td>1</td>\n",
       "    </tr>\n",
       "    <tr>\n",
       "      <th>2</th>\n",
       "      <td>8.050924</td>\n",
       "      <td>9.47025</td>\n",
       "      <td>43.7273</td>\n",
       "      <td>16.636703</td>\n",
       "      <td>1</td>\n",
       "      <td>0</td>\n",
       "      <td>0</td>\n",
       "      <td>0</td>\n",
       "      <td>0</td>\n",
       "      <td>0</td>\n",
       "      <td>...</td>\n",
       "      <td>0</td>\n",
       "      <td>0</td>\n",
       "      <td>0</td>\n",
       "      <td>0</td>\n",
       "      <td>0</td>\n",
       "      <td>0</td>\n",
       "      <td>1</td>\n",
       "      <td>1</td>\n",
       "      <td>0</td>\n",
       "      <td>0</td>\n",
       "    </tr>\n",
       "    <tr>\n",
       "      <th>3</th>\n",
       "      <td>8.200000</td>\n",
       "      <td>10.60610</td>\n",
       "      <td>59.0435</td>\n",
       "      <td>10.739832</td>\n",
       "      <td>1</td>\n",
       "      <td>0</td>\n",
       "      <td>0</td>\n",
       "      <td>0</td>\n",
       "      <td>0</td>\n",
       "      <td>0</td>\n",
       "      <td>...</td>\n",
       "      <td>0</td>\n",
       "      <td>0</td>\n",
       "      <td>0</td>\n",
       "      <td>0</td>\n",
       "      <td>1</td>\n",
       "      <td>0</td>\n",
       "      <td>0</td>\n",
       "      <td>1</td>\n",
       "      <td>0</td>\n",
       "      <td>0</td>\n",
       "    </tr>\n",
       "    <tr>\n",
       "      <th>4</th>\n",
       "      <td>9.305237</td>\n",
       "      <td>11.46350</td>\n",
       "      <td>43.6957</td>\n",
       "      <td>12.522300</td>\n",
       "      <td>1</td>\n",
       "      <td>0</td>\n",
       "      <td>0</td>\n",
       "      <td>0</td>\n",
       "      <td>0</td>\n",
       "      <td>0</td>\n",
       "      <td>...</td>\n",
       "      <td>0</td>\n",
       "      <td>0</td>\n",
       "      <td>0</td>\n",
       "      <td>0</td>\n",
       "      <td>0</td>\n",
       "      <td>0</td>\n",
       "      <td>0</td>\n",
       "      <td>1</td>\n",
       "      <td>0</td>\n",
       "      <td>0</td>\n",
       "    </tr>\n",
       "  </tbody>\n",
       "</table>\n",
       "<p>5 rows × 29 columns</p>\n",
       "</div>"
      ],
      "text/plain": [
       "        temp     atemp      hum  windspeed  season_spring  season_summer  \\\n",
       "0  14.110847  18.18125  80.5833  10.749882              1              0   \n",
       "1  14.902598  17.68695  69.6087  16.652113              1              0   \n",
       "2   8.050924   9.47025  43.7273  16.636703              1              0   \n",
       "3   8.200000  10.60610  59.0435  10.739832              1              0   \n",
       "4   9.305237  11.46350  43.6957  12.522300              1              0   \n",
       "\n",
       "   season_winter  yr_2019  mnth_Aug  mnth_Dec  ...  holiday_Yes  weekday_Mon  \\\n",
       "0              0        0         0         0  ...            0            1   \n",
       "1              0        0         0         0  ...            0            0   \n",
       "2              0        0         0         0  ...            0            0   \n",
       "3              0        0         0         0  ...            0            0   \n",
       "4              0        0         0         0  ...            0            0   \n",
       "\n",
       "   weekday_Sat  weekday_Sun  weekday_Thu  weekday_Tue  weekday_Wed  \\\n",
       "0            0            0            0            0            0   \n",
       "1            0            0            0            1            0   \n",
       "2            0            0            0            0            1   \n",
       "3            0            0            1            0            0   \n",
       "4            0            0            0            0            0   \n",
       "\n",
       "   workingday_Yes  weathersit_Light Snow  weathersit_Mist + Cloudy  \n",
       "0               1                      0                         1  \n",
       "1               1                      0                         1  \n",
       "2               1                      0                         0  \n",
       "3               1                      0                         0  \n",
       "4               1                      0                         0  \n",
       "\n",
       "[5 rows x 29 columns]"
      ]
     },
     "execution_count": 125,
     "metadata": {},
     "output_type": "execute_result"
    }
   ],
   "source": [
    "#fetching the data to validate\n",
    "\n",
    "X.head()"
   ]
  },
  {
   "cell_type": "code",
   "execution_count": 126,
   "metadata": {},
   "outputs": [
    {
     "name": "stdout",
     "output_type": "stream",
     "text": [
      "(511, 29)\n",
      "(219, 29)\n"
     ]
    }
   ],
   "source": [
    "#Printing shape of both train and test\n",
    "\n",
    "print(X_train.shape)\n",
    "print(X_test.shape)"
   ]
  },
  {
   "cell_type": "markdown",
   "metadata": {},
   "source": [
    "### 6.2 Feature Scaling the continuous variables using normalized scaler"
   ]
  },
  {
   "cell_type": "code",
   "execution_count": 127,
   "metadata": {},
   "outputs": [],
   "source": [
    "from sklearn.preprocessing import MinMaxScaler\n",
    "\n",
    "num_vars = ['temp','atemp','hum','windspeed']\n",
    "\n",
    "#Using Normalized scaler to scale\n",
    "scaler = MinMaxScaler()\n",
    "\n",
    "#Fit and transform training set\n",
    "X_train[num_vars] = scaler.fit_transform(X_train[num_vars])"
   ]
  },
  {
   "cell_type": "code",
   "execution_count": 128,
   "metadata": {},
   "outputs": [
    {
     "data": {
      "text/html": [
       "<div>\n",
       "<style scoped>\n",
       "    .dataframe tbody tr th:only-of-type {\n",
       "        vertical-align: middle;\n",
       "    }\n",
       "\n",
       "    .dataframe tbody tr th {\n",
       "        vertical-align: top;\n",
       "    }\n",
       "\n",
       "    .dataframe thead th {\n",
       "        text-align: right;\n",
       "    }\n",
       "</style>\n",
       "<table border=\"1\" class=\"dataframe\">\n",
       "  <thead>\n",
       "    <tr style=\"text-align: right;\">\n",
       "      <th></th>\n",
       "      <th>temp</th>\n",
       "      <th>atemp</th>\n",
       "      <th>hum</th>\n",
       "      <th>windspeed</th>\n",
       "      <th>season_spring</th>\n",
       "      <th>season_summer</th>\n",
       "      <th>season_winter</th>\n",
       "      <th>yr_2019</th>\n",
       "      <th>mnth_Aug</th>\n",
       "      <th>mnth_Dec</th>\n",
       "      <th>...</th>\n",
       "      <th>holiday_Yes</th>\n",
       "      <th>weekday_Mon</th>\n",
       "      <th>weekday_Sat</th>\n",
       "      <th>weekday_Sun</th>\n",
       "      <th>weekday_Thu</th>\n",
       "      <th>weekday_Tue</th>\n",
       "      <th>weekday_Wed</th>\n",
       "      <th>workingday_Yes</th>\n",
       "      <th>weathersit_Light Snow</th>\n",
       "      <th>weathersit_Mist + Cloudy</th>\n",
       "    </tr>\n",
       "  </thead>\n",
       "  <tbody>\n",
       "    <tr>\n",
       "      <th>count</th>\n",
       "      <td>511.000000</td>\n",
       "      <td>511.000000</td>\n",
       "      <td>511.000000</td>\n",
       "      <td>511.000000</td>\n",
       "      <td>511.000000</td>\n",
       "      <td>511.000000</td>\n",
       "      <td>511.000000</td>\n",
       "      <td>511.000000</td>\n",
       "      <td>511.000000</td>\n",
       "      <td>511.000000</td>\n",
       "      <td>...</td>\n",
       "      <td>511.000000</td>\n",
       "      <td>511.000000</td>\n",
       "      <td>511.000000</td>\n",
       "      <td>511.000000</td>\n",
       "      <td>511.000000</td>\n",
       "      <td>511.000000</td>\n",
       "      <td>511.000000</td>\n",
       "      <td>511.000000</td>\n",
       "      <td>511.000000</td>\n",
       "      <td>511.000000</td>\n",
       "    </tr>\n",
       "    <tr>\n",
       "      <th>mean</th>\n",
       "      <td>0.552390</td>\n",
       "      <td>0.544999</td>\n",
       "      <td>0.644967</td>\n",
       "      <td>0.317738</td>\n",
       "      <td>0.244618</td>\n",
       "      <td>0.254403</td>\n",
       "      <td>0.252446</td>\n",
       "      <td>0.483366</td>\n",
       "      <td>0.088063</td>\n",
       "      <td>0.093933</td>\n",
       "      <td>...</td>\n",
       "      <td>0.023483</td>\n",
       "      <td>0.136986</td>\n",
       "      <td>0.148728</td>\n",
       "      <td>0.133072</td>\n",
       "      <td>0.144814</td>\n",
       "      <td>0.148728</td>\n",
       "      <td>0.150685</td>\n",
       "      <td>0.698630</td>\n",
       "      <td>0.031311</td>\n",
       "      <td>0.342466</td>\n",
       "    </tr>\n",
       "    <tr>\n",
       "      <th>std</th>\n",
       "      <td>0.230467</td>\n",
       "      <td>0.223170</td>\n",
       "      <td>0.149518</td>\n",
       "      <td>0.167252</td>\n",
       "      <td>0.430282</td>\n",
       "      <td>0.435952</td>\n",
       "      <td>0.434842</td>\n",
       "      <td>0.500213</td>\n",
       "      <td>0.283664</td>\n",
       "      <td>0.292022</td>\n",
       "      <td>...</td>\n",
       "      <td>0.151581</td>\n",
       "      <td>0.344170</td>\n",
       "      <td>0.356169</td>\n",
       "      <td>0.339986</td>\n",
       "      <td>0.352258</td>\n",
       "      <td>0.356169</td>\n",
       "      <td>0.358092</td>\n",
       "      <td>0.459303</td>\n",
       "      <td>0.174328</td>\n",
       "      <td>0.474999</td>\n",
       "    </tr>\n",
       "    <tr>\n",
       "      <th>min</th>\n",
       "      <td>0.000000</td>\n",
       "      <td>0.000000</td>\n",
       "      <td>0.000000</td>\n",
       "      <td>0.000000</td>\n",
       "      <td>0.000000</td>\n",
       "      <td>0.000000</td>\n",
       "      <td>0.000000</td>\n",
       "      <td>0.000000</td>\n",
       "      <td>0.000000</td>\n",
       "      <td>0.000000</td>\n",
       "      <td>...</td>\n",
       "      <td>0.000000</td>\n",
       "      <td>0.000000</td>\n",
       "      <td>0.000000</td>\n",
       "      <td>0.000000</td>\n",
       "      <td>0.000000</td>\n",
       "      <td>0.000000</td>\n",
       "      <td>0.000000</td>\n",
       "      <td>0.000000</td>\n",
       "      <td>0.000000</td>\n",
       "      <td>0.000000</td>\n",
       "    </tr>\n",
       "    <tr>\n",
       "      <th>25%</th>\n",
       "      <td>0.343347</td>\n",
       "      <td>0.345523</td>\n",
       "      <td>0.524903</td>\n",
       "      <td>0.197851</td>\n",
       "      <td>0.000000</td>\n",
       "      <td>0.000000</td>\n",
       "      <td>0.000000</td>\n",
       "      <td>0.000000</td>\n",
       "      <td>0.000000</td>\n",
       "      <td>0.000000</td>\n",
       "      <td>...</td>\n",
       "      <td>0.000000</td>\n",
       "      <td>0.000000</td>\n",
       "      <td>0.000000</td>\n",
       "      <td>0.000000</td>\n",
       "      <td>0.000000</td>\n",
       "      <td>0.000000</td>\n",
       "      <td>0.000000</td>\n",
       "      <td>0.000000</td>\n",
       "      <td>0.000000</td>\n",
       "      <td>0.000000</td>\n",
       "    </tr>\n",
       "    <tr>\n",
       "      <th>50%</th>\n",
       "      <td>0.551893</td>\n",
       "      <td>0.555450</td>\n",
       "      <td>0.650064</td>\n",
       "      <td>0.294759</td>\n",
       "      <td>0.000000</td>\n",
       "      <td>0.000000</td>\n",
       "      <td>0.000000</td>\n",
       "      <td>0.000000</td>\n",
       "      <td>0.000000</td>\n",
       "      <td>0.000000</td>\n",
       "      <td>...</td>\n",
       "      <td>0.000000</td>\n",
       "      <td>0.000000</td>\n",
       "      <td>0.000000</td>\n",
       "      <td>0.000000</td>\n",
       "      <td>0.000000</td>\n",
       "      <td>0.000000</td>\n",
       "      <td>0.000000</td>\n",
       "      <td>1.000000</td>\n",
       "      <td>0.000000</td>\n",
       "      <td>0.000000</td>\n",
       "    </tr>\n",
       "    <tr>\n",
       "      <th>75%</th>\n",
       "      <td>0.757231</td>\n",
       "      <td>0.731772</td>\n",
       "      <td>0.752469</td>\n",
       "      <td>0.406464</td>\n",
       "      <td>0.000000</td>\n",
       "      <td>1.000000</td>\n",
       "      <td>1.000000</td>\n",
       "      <td>1.000000</td>\n",
       "      <td>0.000000</td>\n",
       "      <td>0.000000</td>\n",
       "      <td>...</td>\n",
       "      <td>0.000000</td>\n",
       "      <td>0.000000</td>\n",
       "      <td>0.000000</td>\n",
       "      <td>0.000000</td>\n",
       "      <td>0.000000</td>\n",
       "      <td>0.000000</td>\n",
       "      <td>0.000000</td>\n",
       "      <td>1.000000</td>\n",
       "      <td>0.000000</td>\n",
       "      <td>1.000000</td>\n",
       "    </tr>\n",
       "    <tr>\n",
       "      <th>max</th>\n",
       "      <td>1.000000</td>\n",
       "      <td>1.000000</td>\n",
       "      <td>1.000000</td>\n",
       "      <td>1.000000</td>\n",
       "      <td>1.000000</td>\n",
       "      <td>1.000000</td>\n",
       "      <td>1.000000</td>\n",
       "      <td>1.000000</td>\n",
       "      <td>1.000000</td>\n",
       "      <td>1.000000</td>\n",
       "      <td>...</td>\n",
       "      <td>1.000000</td>\n",
       "      <td>1.000000</td>\n",
       "      <td>1.000000</td>\n",
       "      <td>1.000000</td>\n",
       "      <td>1.000000</td>\n",
       "      <td>1.000000</td>\n",
       "      <td>1.000000</td>\n",
       "      <td>1.000000</td>\n",
       "      <td>1.000000</td>\n",
       "      <td>1.000000</td>\n",
       "    </tr>\n",
       "  </tbody>\n",
       "</table>\n",
       "<p>8 rows × 29 columns</p>\n",
       "</div>"
      ],
      "text/plain": [
       "             temp       atemp         hum   windspeed  season_spring  \\\n",
       "count  511.000000  511.000000  511.000000  511.000000     511.000000   \n",
       "mean     0.552390    0.544999    0.644967    0.317738       0.244618   \n",
       "std      0.230467    0.223170    0.149518    0.167252       0.430282   \n",
       "min      0.000000    0.000000    0.000000    0.000000       0.000000   \n",
       "25%      0.343347    0.345523    0.524903    0.197851       0.000000   \n",
       "50%      0.551893    0.555450    0.650064    0.294759       0.000000   \n",
       "75%      0.757231    0.731772    0.752469    0.406464       0.000000   \n",
       "max      1.000000    1.000000    1.000000    1.000000       1.000000   \n",
       "\n",
       "       season_summer  season_winter     yr_2019    mnth_Aug    mnth_Dec  ...  \\\n",
       "count     511.000000     511.000000  511.000000  511.000000  511.000000  ...   \n",
       "mean        0.254403       0.252446    0.483366    0.088063    0.093933  ...   \n",
       "std         0.435952       0.434842    0.500213    0.283664    0.292022  ...   \n",
       "min         0.000000       0.000000    0.000000    0.000000    0.000000  ...   \n",
       "25%         0.000000       0.000000    0.000000    0.000000    0.000000  ...   \n",
       "50%         0.000000       0.000000    0.000000    0.000000    0.000000  ...   \n",
       "75%         1.000000       1.000000    1.000000    0.000000    0.000000  ...   \n",
       "max         1.000000       1.000000    1.000000    1.000000    1.000000  ...   \n",
       "\n",
       "       holiday_Yes  weekday_Mon  weekday_Sat  weekday_Sun  weekday_Thu  \\\n",
       "count   511.000000   511.000000   511.000000   511.000000   511.000000   \n",
       "mean      0.023483     0.136986     0.148728     0.133072     0.144814   \n",
       "std       0.151581     0.344170     0.356169     0.339986     0.352258   \n",
       "min       0.000000     0.000000     0.000000     0.000000     0.000000   \n",
       "25%       0.000000     0.000000     0.000000     0.000000     0.000000   \n",
       "50%       0.000000     0.000000     0.000000     0.000000     0.000000   \n",
       "75%       0.000000     0.000000     0.000000     0.000000     0.000000   \n",
       "max       1.000000     1.000000     1.000000     1.000000     1.000000   \n",
       "\n",
       "       weekday_Tue  weekday_Wed  workingday_Yes  weathersit_Light Snow  \\\n",
       "count   511.000000   511.000000      511.000000             511.000000   \n",
       "mean      0.148728     0.150685        0.698630               0.031311   \n",
       "std       0.356169     0.358092        0.459303               0.174328   \n",
       "min       0.000000     0.000000        0.000000               0.000000   \n",
       "25%       0.000000     0.000000        0.000000               0.000000   \n",
       "50%       0.000000     0.000000        1.000000               0.000000   \n",
       "75%       0.000000     0.000000        1.000000               0.000000   \n",
       "max       1.000000     1.000000        1.000000               1.000000   \n",
       "\n",
       "       weathersit_Mist + Cloudy  \n",
       "count                511.000000  \n",
       "mean                   0.342466  \n",
       "std                    0.474999  \n",
       "min                    0.000000  \n",
       "25%                    0.000000  \n",
       "50%                    0.000000  \n",
       "75%                    1.000000  \n",
       "max                    1.000000  \n",
       "\n",
       "[8 rows x 29 columns]"
      ]
     },
     "execution_count": 128,
     "metadata": {},
     "output_type": "execute_result"
    }
   ],
   "source": [
    "#describing the data\n",
    "\n",
    "X_train.describe()"
   ]
  },
  {
   "cell_type": "code",
   "execution_count": 129,
   "metadata": {},
   "outputs": [
    {
     "data": {
      "text/html": [
       "<div>\n",
       "<style scoped>\n",
       "    .dataframe tbody tr th:only-of-type {\n",
       "        vertical-align: middle;\n",
       "    }\n",
       "\n",
       "    .dataframe tbody tr th {\n",
       "        vertical-align: top;\n",
       "    }\n",
       "\n",
       "    .dataframe thead th {\n",
       "        text-align: right;\n",
       "    }\n",
       "</style>\n",
       "<table border=\"1\" class=\"dataframe\">\n",
       "  <thead>\n",
       "    <tr style=\"text-align: right;\">\n",
       "      <th></th>\n",
       "      <th>temp</th>\n",
       "      <th>atemp</th>\n",
       "      <th>hum</th>\n",
       "      <th>windspeed</th>\n",
       "      <th>season_spring</th>\n",
       "      <th>season_summer</th>\n",
       "      <th>season_winter</th>\n",
       "      <th>yr_2019</th>\n",
       "      <th>mnth_Aug</th>\n",
       "      <th>mnth_Dec</th>\n",
       "      <th>...</th>\n",
       "      <th>holiday_Yes</th>\n",
       "      <th>weekday_Mon</th>\n",
       "      <th>weekday_Sat</th>\n",
       "      <th>weekday_Sun</th>\n",
       "      <th>weekday_Thu</th>\n",
       "      <th>weekday_Tue</th>\n",
       "      <th>weekday_Wed</th>\n",
       "      <th>workingday_Yes</th>\n",
       "      <th>weathersit_Light Snow</th>\n",
       "      <th>weathersit_Mist + Cloudy</th>\n",
       "    </tr>\n",
       "  </thead>\n",
       "  <tbody>\n",
       "    <tr>\n",
       "      <th>707</th>\n",
       "      <td>0.417140</td>\n",
       "      <td>0.434610</td>\n",
       "      <td>0.933018</td>\n",
       "      <td>0.243629</td>\n",
       "      <td>0</td>\n",
       "      <td>0</td>\n",
       "      <td>1</td>\n",
       "      <td>1</td>\n",
       "      <td>0</td>\n",
       "      <td>1</td>\n",
       "      <td>...</td>\n",
       "      <td>0</td>\n",
       "      <td>1</td>\n",
       "      <td>0</td>\n",
       "      <td>0</td>\n",
       "      <td>0</td>\n",
       "      <td>0</td>\n",
       "      <td>0</td>\n",
       "      <td>1</td>\n",
       "      <td>0</td>\n",
       "      <td>1</td>\n",
       "    </tr>\n",
       "    <tr>\n",
       "      <th>172</th>\n",
       "      <td>0.865247</td>\n",
       "      <td>0.858891</td>\n",
       "      <td>0.729068</td>\n",
       "      <td>0.274549</td>\n",
       "      <td>0</td>\n",
       "      <td>0</td>\n",
       "      <td>0</td>\n",
       "      <td>0</td>\n",
       "      <td>0</td>\n",
       "      <td>0</td>\n",
       "      <td>...</td>\n",
       "      <td>0</td>\n",
       "      <td>0</td>\n",
       "      <td>0</td>\n",
       "      <td>0</td>\n",
       "      <td>0</td>\n",
       "      <td>0</td>\n",
       "      <td>0</td>\n",
       "      <td>1</td>\n",
       "      <td>0</td>\n",
       "      <td>0</td>\n",
       "    </tr>\n",
       "    <tr>\n",
       "      <th>14</th>\n",
       "      <td>0.223565</td>\n",
       "      <td>0.236172</td>\n",
       "      <td>0.513954</td>\n",
       "      <td>0.243603</td>\n",
       "      <td>1</td>\n",
       "      <td>0</td>\n",
       "      <td>0</td>\n",
       "      <td>0</td>\n",
       "      <td>0</td>\n",
       "      <td>0</td>\n",
       "      <td>...</td>\n",
       "      <td>0</td>\n",
       "      <td>1</td>\n",
       "      <td>0</td>\n",
       "      <td>0</td>\n",
       "      <td>0</td>\n",
       "      <td>0</td>\n",
       "      <td>0</td>\n",
       "      <td>1</td>\n",
       "      <td>0</td>\n",
       "      <td>1</td>\n",
       "    </tr>\n",
       "    <tr>\n",
       "      <th>204</th>\n",
       "      <td>0.989306</td>\n",
       "      <td>1.000000</td>\n",
       "      <td>0.567625</td>\n",
       "      <td>0.267859</td>\n",
       "      <td>0</td>\n",
       "      <td>0</td>\n",
       "      <td>0</td>\n",
       "      <td>0</td>\n",
       "      <td>0</td>\n",
       "      <td>0</td>\n",
       "      <td>...</td>\n",
       "      <td>0</td>\n",
       "      <td>0</td>\n",
       "      <td>0</td>\n",
       "      <td>0</td>\n",
       "      <td>0</td>\n",
       "      <td>1</td>\n",
       "      <td>0</td>\n",
       "      <td>1</td>\n",
       "      <td>0</td>\n",
       "      <td>0</td>\n",
       "    </tr>\n",
       "    <tr>\n",
       "      <th>182</th>\n",
       "      <td>0.871664</td>\n",
       "      <td>0.821838</td>\n",
       "      <td>0.458136</td>\n",
       "      <td>0.150755</td>\n",
       "      <td>0</td>\n",
       "      <td>0</td>\n",
       "      <td>0</td>\n",
       "      <td>0</td>\n",
       "      <td>0</td>\n",
       "      <td>0</td>\n",
       "      <td>...</td>\n",
       "      <td>0</td>\n",
       "      <td>1</td>\n",
       "      <td>0</td>\n",
       "      <td>0</td>\n",
       "      <td>0</td>\n",
       "      <td>0</td>\n",
       "      <td>0</td>\n",
       "      <td>1</td>\n",
       "      <td>0</td>\n",
       "      <td>0</td>\n",
       "    </tr>\n",
       "  </tbody>\n",
       "</table>\n",
       "<p>5 rows × 29 columns</p>\n",
       "</div>"
      ],
      "text/plain": [
       "         temp     atemp       hum  windspeed  season_spring  season_summer  \\\n",
       "707  0.417140  0.434610  0.933018   0.243629              0              0   \n",
       "172  0.865247  0.858891  0.729068   0.274549              0              0   \n",
       "14   0.223565  0.236172  0.513954   0.243603              1              0   \n",
       "204  0.989306  1.000000  0.567625   0.267859              0              0   \n",
       "182  0.871664  0.821838  0.458136   0.150755              0              0   \n",
       "\n",
       "     season_winter  yr_2019  mnth_Aug  mnth_Dec  ...  holiday_Yes  \\\n",
       "707              1        1         0         1  ...            0   \n",
       "172              0        0         0         0  ...            0   \n",
       "14               0        0         0         0  ...            0   \n",
       "204              0        0         0         0  ...            0   \n",
       "182              0        0         0         0  ...            0   \n",
       "\n",
       "     weekday_Mon  weekday_Sat  weekday_Sun  weekday_Thu  weekday_Tue  \\\n",
       "707            1            0            0            0            0   \n",
       "172            0            0            0            0            0   \n",
       "14             1            0            0            0            0   \n",
       "204            0            0            0            0            1   \n",
       "182            1            0            0            0            0   \n",
       "\n",
       "     weekday_Wed  workingday_Yes  weathersit_Light Snow  \\\n",
       "707            0               1                      0   \n",
       "172            0               1                      0   \n",
       "14             0               1                      0   \n",
       "204            0               1                      0   \n",
       "182            0               1                      0   \n",
       "\n",
       "     weathersit_Mist + Cloudy  \n",
       "707                         1  \n",
       "172                         0  \n",
       "14                          1  \n",
       "204                         0  \n",
       "182                         0  \n",
       "\n",
       "[5 rows x 29 columns]"
      ]
     },
     "execution_count": 129,
     "metadata": {},
     "output_type": "execute_result"
    }
   ],
   "source": [
    "#Fetching the X_train data\n",
    "\n",
    "X_train.head()"
   ]
  },
  {
   "cell_type": "markdown",
   "metadata": {},
   "source": [
    "### 6.3 Building a Model using RFE"
   ]
  },
  {
   "cell_type": "code",
   "execution_count": 130,
   "metadata": {},
   "outputs": [
    {
     "data": {
      "text/plain": [
       "LinearRegression()"
      ]
     },
     "execution_count": 130,
     "metadata": {},
     "output_type": "execute_result"
    }
   ],
   "source": [
    "# Build a Lienar Regression model using SKLearn for RFE\n",
    "\n",
    "lr = LinearRegression()\n",
    "lr.fit(X_train,y_train)"
   ]
  },
  {
   "cell_type": "code",
   "execution_count": 131,
   "metadata": {},
   "outputs": [
    {
     "data": {
      "text/plain": [
       "RFE(estimator=LinearRegression(), n_features_to_select=15)"
      ]
     },
     "execution_count": 131,
     "metadata": {},
     "output_type": "execute_result"
    }
   ],
   "source": [
    "#Cutting down number of features to 15\n",
    "\n",
    "rfe = RFE(lr,15)\n",
    "rfe.fit(X_train,y_train)"
   ]
  },
  {
   "cell_type": "code",
   "execution_count": 132,
   "metadata": {},
   "outputs": [
    {
     "data": {
      "text/plain": [
       "[('temp', True, 1),\n",
       " ('atemp', True, 1),\n",
       " ('hum', True, 1),\n",
       " ('windspeed', True, 1),\n",
       " ('season_spring', True, 1),\n",
       " ('season_summer', True, 1),\n",
       " ('season_winter', True, 1),\n",
       " ('yr_2019', True, 1),\n",
       " ('mnth_Aug', False, 14),\n",
       " ('mnth_Dec', False, 3),\n",
       " ('mnth_Feb', False, 6),\n",
       " ('mnth_Jan', False, 4),\n",
       " ('mnth_Jul', False, 5),\n",
       " ('mnth_Jun', False, 9),\n",
       " ('mnth_Mar', False, 15),\n",
       " ('mnth_May', False, 8),\n",
       " ('mnth_Nov', False, 2),\n",
       " ('mnth_Oct', False, 12),\n",
       " ('mnth_Sep', True, 1),\n",
       " ('holiday_Yes', True, 1),\n",
       " ('weekday_Mon', False, 10),\n",
       " ('weekday_Sat', True, 1),\n",
       " ('weekday_Sun', True, 1),\n",
       " ('weekday_Thu', False, 13),\n",
       " ('weekday_Tue', False, 7),\n",
       " ('weekday_Wed', False, 11),\n",
       " ('workingday_Yes', True, 1),\n",
       " ('weathersit_Light Snow', True, 1),\n",
       " ('weathersit_Mist + Cloudy', True, 1)]"
      ]
     },
     "execution_count": 132,
     "metadata": {},
     "output_type": "execute_result"
    }
   ],
   "source": [
    "#Columns that are selected by RFE and their ranks\n",
    "\n",
    "list(zip(X_train.columns,rfe.support_,rfe.ranking_))"
   ]
  },
  {
   "cell_type": "markdown",
   "metadata": {},
   "source": [
    "### 6.7 Manual elimination"
   ]
  },
  {
   "cell_type": "code",
   "execution_count": 133,
   "metadata": {},
   "outputs": [],
   "source": [
    "# defining a function to build a model using statsmodel api \n",
    "\n",
    "def build_model(cols):\n",
    "    X_train_sm = sm.add_constant(X_train[cols])\n",
    "    lm = sm.OLS(y_train, X_train_sm).fit()\n",
    "    print(lm.summary())\n",
    "    return lm"
   ]
  },
  {
   "cell_type": "code",
   "execution_count": 134,
   "metadata": {},
   "outputs": [],
   "source": [
    "#defining a function to calculate VIFs and print them, for calculating VIF\n",
    "\n",
    "def get_vif(cols):\n",
    "    df1 = X_train[cols]\n",
    "    vif = pd.DataFrame()\n",
    "    vif['Features'] = df1.columns\n",
    "    vif['VIF'] = [variance_inflation_factor(df1.values, i) for i in range(df1.shape[1])]\n",
    "    vif['VIF'] = round(vif['VIF'],2)\n",
    "    print(vif.sort_values(by='VIF',ascending=False))"
   ]
  },
  {
   "cell_type": "code",
   "execution_count": 135,
   "metadata": {},
   "outputs": [
    {
     "data": {
      "text/plain": [
       "Index(['temp', 'atemp', 'hum', 'windspeed', 'season_spring', 'season_summer',\n",
       "       'season_winter', 'yr_2019', 'mnth_Sep', 'holiday_Yes', 'weekday_Sat',\n",
       "       'weekday_Sun', 'workingday_Yes', 'weathersit_Light Snow',\n",
       "       'weathersit_Mist + Cloudy'],\n",
       "      dtype='object')"
      ]
     },
     "execution_count": 135,
     "metadata": {},
     "output_type": "execute_result"
    }
   ],
   "source": [
    "#Printing Columns selected by RFE. We will start with these columns for manual elimination to build model.\n",
    "\n",
    "X_train.columns[rfe.support_]"
   ]
  },
  {
   "cell_type": "code",
   "execution_count": 136,
   "metadata": {},
   "outputs": [
    {
     "data": {
      "text/plain": [
       "Index(['mnth_Aug', 'mnth_Dec', 'mnth_Feb', 'mnth_Jan', 'mnth_Jul', 'mnth_Jun',\n",
       "       'mnth_Mar', 'mnth_May', 'mnth_Nov', 'mnth_Oct', 'weekday_Mon',\n",
       "       'weekday_Thu', 'weekday_Tue', 'weekday_Wed'],\n",
       "      dtype='object')"
      ]
     },
     "execution_count": 136,
     "metadata": {},
     "output_type": "execute_result"
    }
   ],
   "source": [
    "# Features which are not selected by RFE\n",
    "\n",
    "X_train.columns[~rfe.support_]"
   ]
  },
  {
   "cell_type": "code",
   "execution_count": 137,
   "metadata": {},
   "outputs": [],
   "source": [
    "#creating a new df which has only the features which are selected for RFE\n",
    "\n",
    "X_train_rfe = X_train[['temp', 'atemp', 'hum', 'windspeed', 'season_spring', 'season_summer',\n",
    "       'season_winter', 'yr_2019', 'mnth_Sep', 'holiday_Yes', 'weekday_Sat',\n",
    "       'weekday_Sun', 'workingday_Yes', 'weathersit_Light Snow',\n",
    "       'weathersit_Mist + Cloudy']]"
   ]
  },
  {
   "cell_type": "code",
   "execution_count": 138,
   "metadata": {},
   "outputs": [
    {
     "data": {
      "text/plain": [
       "(511, 15)"
      ]
     },
     "execution_count": 138,
     "metadata": {},
     "output_type": "execute_result"
    }
   ],
   "source": [
    "#Shape of the new df\n",
    "\n",
    "X_train_rfe.shape"
   ]
  },
  {
   "cell_type": "markdown",
   "metadata": {},
   "source": [
    "## 7. Build Model"
   ]
  },
  {
   "cell_type": "markdown",
   "metadata": {},
   "source": [
    "Assuming:\n",
    "    \n",
    "    P-value limit -> 0.05\n",
    "    \n",
    "    VIF limit -> 5"
   ]
  },
  {
   "cell_type": "markdown",
   "metadata": {},
   "source": [
    "### Model 1 - Start with all features selected by RFE"
   ]
  },
  {
   "cell_type": "code",
   "execution_count": 139,
   "metadata": {},
   "outputs": [
    {
     "name": "stdout",
     "output_type": "stream",
     "text": [
      "                            OLS Regression Results                            \n",
      "==============================================================================\n",
      "Dep. Variable:                    cnt   R-squared:                       0.847\n",
      "Model:                            OLS   Adj. R-squared:                  0.843\n",
      "Method:                 Least Squares   F-statistic:                     183.0\n",
      "Date:                Mon, 10 May 2021   Prob (F-statistic):          8.26e-191\n",
      "Time:                        21:33:56   Log-Likelihood:                -4113.2\n",
      "No. Observations:                 511   AIC:                             8258.\n",
      "Df Residuals:                     495   BIC:                             8326.\n",
      "Df Model:                          15                                         \n",
      "Covariance Type:            nonrobust                                         \n",
      "============================================================================================\n",
      "                               coef    std err          t      P>|t|      [0.025      0.975]\n",
      "--------------------------------------------------------------------------------------------\n",
      "const                     3287.6274    688.336      4.776      0.000    1935.207    4640.047\n",
      "temp                      4154.2357   1128.397      3.682      0.000    1937.198    6371.274\n",
      "atemp                      518.8774   1123.102      0.462      0.644   -1687.757    2725.512\n",
      "hum                      -1900.9339    324.947     -5.850      0.000   -2539.380   -1262.488\n",
      "windspeed                -1616.6580    225.251     -7.177      0.000   -2059.224   -1174.092\n",
      "season_spring             -417.3023    179.869     -2.320      0.021    -770.703     -63.901\n",
      "season_summer              570.2251    120.029      4.751      0.000     334.396     806.054\n",
      "season_winter              997.5333    149.781      6.660      0.000     703.248    1291.819\n",
      "yr_2019                   1996.5294     69.287     28.815      0.000    1860.396    2132.663\n",
      "mnth_Sep                   722.2806    150.945      4.785      0.000     425.708    1018.853\n",
      "holiday_Yes              -1275.6282    554.864     -2.299      0.022   -2365.807    -185.450\n",
      "weekday_Sat               -718.6284    608.302     -1.181      0.238   -1913.800     476.543\n",
      "weekday_Sun               -584.8471    608.510     -0.961      0.337   -1780.428     610.734\n",
      "workingday_Yes            -836.8685    610.030     -1.372      0.171   -2035.436     361.699\n",
      "weathersit_Light Snow    -1711.0054    223.749     -7.647      0.000   -2150.619   -1271.391\n",
      "weathersit_Mist + Cloudy  -357.1641     92.194     -3.874      0.000    -538.304    -176.025\n",
      "==============================================================================\n",
      "Omnibus:                       71.415   Durbin-Watson:                   1.970\n",
      "Prob(Omnibus):                  0.000   Jarque-Bera (JB):              164.561\n",
      "Skew:                          -0.742   Prob(JB):                     1.85e-36\n",
      "Kurtosis:                       5.350   Cond. No.                         83.9\n",
      "==============================================================================\n",
      "\n",
      "Notes:\n",
      "[1] Standard Errors assume that the covariance matrix of the errors is correctly specified.\n",
      "                    Features     VIF\n",
      "0                       temp  389.91\n",
      "1                      atemp  376.92\n",
      "12            workingday_Yes   41.65\n",
      "2                        hum   37.44\n",
      "10               weekday_Sat    9.43\n",
      "11               weekday_Sun    8.14\n",
      "4              season_spring    6.14\n",
      "3                  windspeed    5.54\n",
      "6              season_winter    4.68\n",
      "5              season_summer    3.03\n",
      "14  weathersit_Mist + Cloudy    2.49\n",
      "9                holiday_Yes    2.01\n",
      "7                    yr_2019    1.98\n",
      "13     weathersit_Light Snow    1.34\n",
      "8                   mnth_Sep    1.26\n"
     ]
    }
   ],
   "source": [
    "# For Model 1 selected all the features which are selected by RFE \n",
    "\n",
    "cols = ['temp', 'atemp', 'hum', 'windspeed', 'season_spring', 'season_summer',\n",
    "       'season_winter', 'yr_2019', 'mnth_Sep', 'holiday_Yes', 'weekday_Sat',\n",
    "       'weekday_Sun', 'workingday_Yes', 'weathersit_Light Snow',\n",
    "       'weathersit_Mist + Cloudy']\n",
    "\n",
    "build_model(cols)\n",
    "get_vif(cols)"
   ]
  },
  {
   "cell_type": "code",
   "execution_count": 140,
   "metadata": {},
   "outputs": [
    {
     "data": {
      "image/png": "[encoded data removed]",
      "text/plain": [
       "<Figure size 1080x720 with 2 Axes>"
      ]
     },
     "metadata": {
      "needs_background": "light"
     },
     "output_type": "display_data"
    }
   ],
   "source": [
    "# Checking correlation of features selected by RFE with target column. \n",
    "# Also to check impact of different features on target.\n",
    "\n",
    "plt.figure(figsize = (15,10))\n",
    "sns.heatmap(df_bike[['temp', 'atemp', 'hum', 'windspeed', 'season_spring', 'season_summer',\n",
    "       'season_winter', 'yr_2019', 'mnth_Sep', 'holiday_Yes', 'weekday_Sat',\n",
    "       'weekday_Sun', 'workingday_Yes', 'weathersit_Light Snow',\n",
    "       'weathersit_Mist + Cloudy']].corr(), cmap='BuPu', annot=True)\n",
    "\n",
    "plt.show()"
   ]
  },
  {
   "cell_type": "markdown",
   "metadata": {},
   "source": [
    "Inferences:\n",
    "    \n",
    "    Both temp and atemp are correlated to each other.\n",
    "    "
   ]
  },
  {
   "cell_type": "markdown",
   "metadata": {},
   "source": [
    "### Model 2 - Post removing atemp column due to high p-value & high VIF"
   ]
  },
  {
   "cell_type": "code",
   "execution_count": 141,
   "metadata": {},
   "outputs": [
    {
     "name": "stdout",
     "output_type": "stream",
     "text": [
      "                            OLS Regression Results                            \n",
      "==============================================================================\n",
      "Dep. Variable:                    cnt   R-squared:                       0.847\n",
      "Model:                            OLS   Adj. R-squared:                  0.843\n",
      "Method:                 Least Squares   F-statistic:                     196.4\n",
      "Date:                Mon, 10 May 2021   Prob (F-statistic):          6.44e-192\n",
      "Time:                        21:34:01   Log-Likelihood:                -4113.3\n",
      "No. Observations:                 511   AIC:                             8257.\n",
      "Df Residuals:                     496   BIC:                             8320.\n",
      "Df Model:                          14                                         \n",
      "Covariance Type:            nonrobust                                         \n",
      "============================================================================================\n",
      "                               coef    std err          t      P>|t|      [0.025      0.975]\n",
      "--------------------------------------------------------------------------------------------\n",
      "const                     3283.3205    687.727      4.774      0.000    1932.104    4634.537\n",
      "temp                      4658.6995    284.424     16.379      0.000    4099.875    5217.524\n",
      "hum                      -1890.1586    323.852     -5.836      0.000   -2526.450   -1253.868\n",
      "windspeed                -1634.6314    221.690     -7.373      0.000   -2070.199   -1199.064\n",
      "season_spring             -409.2373    178.878     -2.288      0.023    -760.689     -57.785\n",
      "season_summer              580.2587    117.954      4.919      0.000     348.508     812.010\n",
      "season_winter             1008.1263    147.898      6.816      0.000     717.542    1298.711\n",
      "yr_2019                   1996.0243     69.224     28.834      0.000    1860.017    2132.032\n",
      "mnth_Sep                   724.3957    150.756      4.805      0.000     428.196    1020.595\n",
      "holiday_Yes              -1277.3411    554.411     -2.304      0.022   -2366.625    -188.057\n",
      "weekday_Sat               -721.9221    607.777     -1.188      0.235   -1916.058     472.213\n",
      "weekday_Sun               -583.7444    608.023     -0.960      0.337   -1778.362     610.873\n",
      "workingday_Yes            -835.0698    609.534     -1.370      0.171   -2032.656     362.517\n",
      "weathersit_Light Snow    -1718.9777    222.905     -7.712      0.000   -2156.933   -1281.023\n",
      "weathersit_Mist + Cloudy  -358.6843     92.062     -3.896      0.000    -539.564    -177.805\n",
      "==============================================================================\n",
      "Omnibus:                       71.003   Durbin-Watson:                   1.971\n",
      "Prob(Omnibus):                  0.000   Jarque-Bera (JB):              163.714\n",
      "Skew:                          -0.738   Prob(JB):                     2.82e-36\n",
      "Kurtosis:                       5.347   Cond. No.                         67.3\n",
      "==============================================================================\n",
      "\n",
      "Notes:\n",
      "[1] Standard Errors assume that the covariance matrix of the errors is correctly specified.\n",
      "                    Features    VIF\n",
      "11            workingday_Yes  41.64\n",
      "1                        hum  37.25\n",
      "0                       temp  22.70\n",
      "9                weekday_Sat   9.40\n",
      "10               weekday_Sun   8.14\n",
      "3              season_spring   6.08\n",
      "2                  windspeed   5.37\n",
      "5              season_winter   4.57\n",
      "4              season_summer   2.93\n",
      "13  weathersit_Mist + Cloudy   2.49\n",
      "8                holiday_Yes   2.01\n",
      "6                    yr_2019   1.98\n",
      "12     weathersit_Light Snow   1.34\n",
      "7                   mnth_Sep   1.26\n"
     ]
    }
   ],
   "source": [
    "# dropping the variable atemp as it has high P-value as well as high VIF\n",
    "\n",
    "cols = ['temp', 'hum', 'windspeed', 'season_spring', 'season_summer',\n",
    "       'season_winter', 'yr_2019', 'mnth_Sep', 'holiday_Yes', 'weekday_Sat',\n",
    "       'weekday_Sun', 'workingday_Yes', 'weathersit_Light Snow',\n",
    "       'weathersit_Mist + Cloudy']\n",
    "\n",
    "build_model(cols)\n",
    "get_vif(cols)"
   ]
  },
  {
   "cell_type": "markdown",
   "metadata": {},
   "source": [
    "### Model 3 - After dropping weekday_Sun column"
   ]
  },
  {
   "cell_type": "code",
   "execution_count": 142,
   "metadata": {},
   "outputs": [
    {
     "name": "stdout",
     "output_type": "stream",
     "text": [
      "                            OLS Regression Results                            \n",
      "==============================================================================\n",
      "Dep. Variable:                    cnt   R-squared:                       0.847\n",
      "Model:                            OLS   Adj. R-squared:                  0.843\n",
      "Method:                 Least Squares   F-statistic:                     211.4\n",
      "Date:                Mon, 10 May 2021   Prob (F-statistic):          6.86e-193\n",
      "Time:                        21:34:01   Log-Likelihood:                -4113.8\n",
      "No. Observations:                 511   AIC:                             8256.\n",
      "Df Residuals:                     497   BIC:                             8315.\n",
      "Df Model:                          13                                         \n",
      "Covariance Type:            nonrobust                                         \n",
      "============================================================================================\n",
      "                               coef    std err          t      P>|t|      [0.025      0.975]\n",
      "--------------------------------------------------------------------------------------------\n",
      "const                     2689.6912    301.057      8.934      0.000    2098.189    3281.193\n",
      "temp                      4671.7506    284.077     16.445      0.000    4113.611    5229.890\n",
      "hum                      -1879.3176    323.630     -5.807      0.000   -2515.169   -1243.467\n",
      "windspeed                -1640.3850    221.592     -7.403      0.000   -2075.757   -1205.013\n",
      "season_spring             -400.2680    178.620     -2.241      0.025    -751.211     -49.325\n",
      "season_summer              582.4625    117.922      4.939      0.000     350.775     814.150\n",
      "season_winter             1003.8885    147.821      6.791      0.000     713.458    1294.320\n",
      "yr_2019                   2000.6563     69.050     28.974      0.000    1864.991    2136.322\n",
      "mnth_Sep                   729.2794    150.658      4.841      0.000     433.274    1025.285\n",
      "holiday_Yes               -797.2160    239.309     -3.331      0.001   -1267.399    -327.033\n",
      "weekday_Sat               -151.5580    128.268     -1.182      0.238    -403.572     100.456\n",
      "workingday_Yes            -258.2774    102.914     -2.510      0.012    -460.477     -56.078\n",
      "weathersit_Light Snow    -1716.2809    222.870     -7.701      0.000   -2154.164   -1278.397\n",
      "weathersit_Mist + Cloudy  -358.1483     92.053     -3.891      0.000    -539.010    -177.287\n",
      "==============================================================================\n",
      "Omnibus:                       72.088   Durbin-Watson:                   1.961\n",
      "Prob(Omnibus):                  0.000   Jarque-Bera (JB):              165.058\n",
      "Skew:                          -0.751   Prob(JB):                     1.44e-36\n",
      "Kurtosis:                       5.344   Cond. No.                         21.5\n",
      "==============================================================================\n",
      "\n",
      "Notes:\n",
      "[1] Standard Errors assume that the covariance matrix of the errors is correctly specified.\n",
      "                    Features    VIF\n",
      "1                        hum  29.94\n",
      "0                       temp  16.06\n",
      "10            workingday_Yes   6.08\n",
      "2                  windspeed   4.76\n",
      "3              season_spring   4.19\n",
      "5              season_winter   3.43\n",
      "4              season_summer   2.50\n",
      "12  weathersit_Mist + Cloudy   2.40\n",
      "9                weekday_Sat   2.04\n",
      "6                    yr_2019   1.97\n",
      "11     weathersit_Light Snow   1.29\n",
      "7                   mnth_Sep   1.26\n",
      "8                holiday_Yes   1.16\n"
     ]
    }
   ],
   "source": [
    "# Dropping weekday_Sun as it has negative Co-efficient and is insignifacnt with high P-value\n",
    "\n",
    "cols = ['temp', 'hum', 'windspeed', 'season_spring', 'season_summer',\n",
    "       'season_winter', 'yr_2019', 'mnth_Sep', 'holiday_Yes', 'weekday_Sat',\n",
    "       'workingday_Yes', 'weathersit_Light Snow',\n",
    "       'weathersit_Mist + Cloudy']\n",
    "\n",
    "build_model(cols)\n",
    "get_vif(cols)\n"
   ]
  },
  {
   "cell_type": "markdown",
   "metadata": {},
   "source": [
    "### Model 4 - After dropping weekday_Sat column"
   ]
  },
  {
   "cell_type": "code",
   "execution_count": 143,
   "metadata": {},
   "outputs": [
    {
     "name": "stdout",
     "output_type": "stream",
     "text": [
      "                            OLS Regression Results                            \n",
      "==============================================================================\n",
      "Dep. Variable:                    cnt   R-squared:                       0.846\n",
      "Model:                            OLS   Adj. R-squared:                  0.843\n",
      "Method:                 Least Squares   F-statistic:                     228.8\n",
      "Date:                Mon, 10 May 2021   Prob (F-statistic):          8.89e-194\n",
      "Time:                        21:34:03   Log-Likelihood:                -4114.5\n",
      "No. Observations:                 511   AIC:                             8255.\n",
      "Df Residuals:                     498   BIC:                             8310.\n",
      "Df Model:                          12                                         \n",
      "Covariance Type:            nonrobust                                         \n",
      "============================================================================================\n",
      "                               coef    std err          t      P>|t|      [0.025      0.975]\n",
      "--------------------------------------------------------------------------------------------\n",
      "const                     2625.6782    296.260      8.863      0.000    2043.604    3207.753\n",
      "temp                      4650.2451    283.606     16.397      0.000    4093.034    5207.456\n",
      "hum                      -1877.9258    323.756     -5.800      0.000   -2514.022   -1241.829\n",
      "windspeed                -1635.9175    221.648     -7.381      0.000   -2071.397   -1200.438\n",
      "season_spring             -412.4087    178.395     -2.312      0.021    -762.908     -61.909\n",
      "season_summer              575.2886    117.813      4.883      0.000     343.817     806.760\n",
      "season_winter              993.0736    147.596      6.728      0.000     703.086    1283.061\n",
      "yr_2019                   2000.9352     69.077     28.967      0.000    1865.217    2136.653\n",
      "mnth_Sep                   734.7924    150.646      4.878      0.000     438.812    1030.772\n",
      "holiday_Yes               -730.3013    232.604     -3.140      0.002   -1187.308    -273.295\n",
      "workingday_Yes            -177.7646     77.155     -2.304      0.022    -329.354     -26.175\n",
      "weathersit_Light Snow    -1725.5559    222.820     -7.744      0.000   -2163.340   -1287.772\n",
      "weathersit_Mist + Cloudy  -356.5744     92.080     -3.872      0.000    -537.488    -175.661\n",
      "==============================================================================\n",
      "Omnibus:                       70.838   Durbin-Watson:                   1.977\n",
      "Prob(Omnibus):                  0.000   Jarque-Bera (JB):              164.947\n",
      "Skew:                          -0.733   Prob(JB):                     1.52e-36\n",
      "Kurtosis:                       5.366   Cond. No.                         21.4\n",
      "==============================================================================\n",
      "\n",
      "Notes:\n",
      "[1] Standard Errors assume that the covariance matrix of the errors is correctly specified.\n",
      "                    Features    VIF\n",
      "1                        hum  29.64\n",
      "0                       temp  15.30\n",
      "2                  windspeed   4.74\n",
      "3              season_spring   3.99\n",
      "9             workingday_Yes   3.52\n",
      "5              season_winter   3.31\n",
      "4              season_summer   2.45\n",
      "11  weathersit_Mist + Cloudy   2.39\n",
      "6                    yr_2019   1.97\n",
      "10     weathersit_Light Snow   1.29\n",
      "7                   mnth_Sep   1.26\n",
      "8                holiday_Yes   1.10\n"
     ]
    }
   ],
   "source": [
    "# Dropping weekday_Sat as it has negative Co-efficient and high P-value\n",
    "\n",
    "cols = ['temp', 'hum', 'windspeed', 'season_spring', 'season_summer',\n",
    "       'season_winter', 'yr_2019', 'mnth_Sep', 'holiday_Yes',\n",
    "       'workingday_Yes', 'weathersit_Light Snow',\n",
    "       'weathersit_Mist + Cloudy']\n",
    "\n",
    "build_model(cols)\n",
    "get_vif(cols)\n"
   ]
  },
  {
   "cell_type": "markdown",
   "metadata": {},
   "source": [
    "### Model 5 -  Post dropping hum col due to high VIF"
   ]
  },
  {
   "cell_type": "code",
   "execution_count": 144,
   "metadata": {},
   "outputs": [
    {
     "name": "stdout",
     "output_type": "stream",
     "text": [
      "                            OLS Regression Results                            \n",
      "==============================================================================\n",
      "Dep. Variable:                    cnt   R-squared:                       0.836\n",
      "Model:                            OLS   Adj. R-squared:                  0.832\n",
      "Method:                 Least Squares   F-statistic:                     231.4\n",
      "Date:                Mon, 10 May 2021   Prob (F-statistic):          6.30e-188\n",
      "Time:                        21:34:04   Log-Likelihood:                -4131.2\n",
      "No. Observations:                 511   AIC:                             8286.\n",
      "Df Residuals:                     499   BIC:                             8337.\n",
      "Df Model:                          11                                         \n",
      "Covariance Type:            nonrobust                                         \n",
      "============================================================================================\n",
      "                               coef    std err          t      P>|t|      [0.025      0.975]\n",
      "--------------------------------------------------------------------------------------------\n",
      "const                     1762.7106    264.442      6.666      0.000    1243.153    2282.268\n",
      "temp                      4238.2877    283.408     14.955      0.000    3681.468    4795.108\n",
      "windspeed                -1250.9998    218.289     -5.731      0.000   -1679.878    -822.122\n",
      "season_spring             -542.4293    182.679     -2.969      0.003    -901.343    -183.515\n",
      "season_summer              505.5352    120.970      4.179      0.000     267.861     743.209\n",
      "season_winter              809.1488    148.790      5.438      0.000     516.816    1101.481\n",
      "yr_2019                   2047.9939     70.807     28.924      0.000    1908.877    2187.111\n",
      "mnth_Sep                   599.1155    153.610      3.900      0.000     297.314     900.917\n",
      "holiday_Yes               -756.0208    240.049     -3.149      0.002   -1227.652    -284.390\n",
      "workingday_Yes            -224.4346     79.205     -2.834      0.005    -380.050     -68.819\n",
      "weathersit_Light Snow    -2289.7774    206.920    -11.066      0.000   -2696.320   -1883.235\n",
      "weathersit_Mist + Cloudy  -678.0733     75.897     -8.934      0.000    -827.190    -528.957\n",
      "==============================================================================\n",
      "Omnibus:                       72.345   Durbin-Watson:                   1.992\n",
      "Prob(Omnibus):                  0.000   Jarque-Bera (JB):              166.094\n",
      "Skew:                          -0.753   Prob(JB):                     8.57e-37\n",
      "Kurtosis:                       5.353   Cond. No.                         19.6\n",
      "==============================================================================\n",
      "\n",
      "Notes:\n",
      "[1] Standard Errors assume that the covariance matrix of the errors is correctly specified.\n",
      "                    Features   VIF\n",
      "0                       temp  4.81\n",
      "1                  windspeed  4.64\n",
      "8             workingday_Yes  3.38\n",
      "2              season_spring  2.21\n",
      "3              season_summer  2.02\n",
      "5                    yr_2019  1.96\n",
      "4              season_winter  1.78\n",
      "10  weathersit_Mist + Cloudy  1.57\n",
      "6                   mnth_Sep  1.20\n",
      "7                holiday_Yes  1.09\n",
      "9      weathersit_Light Snow  1.08\n"
     ]
    }
   ],
   "source": [
    "# Dropping hum as it has high VIF\n",
    "\n",
    "cols = ['temp', 'windspeed', 'season_spring', 'season_summer',\n",
    "       'season_winter', 'yr_2019', 'mnth_Sep', 'holiday_Yes',\n",
    "       'workingday_Yes', 'weathersit_Light Snow',\n",
    "       'weathersit_Mist + Cloudy']\n",
    "\n",
    "build_model(cols)\n",
    "get_vif(cols)"
   ]
  },
  {
   "cell_type": "markdown",
   "metadata": {},
   "source": [
    "### Model 6 - Removing workingday_yes column"
   ]
  },
  {
   "cell_type": "code",
   "execution_count": 145,
   "metadata": {},
   "outputs": [
    {
     "name": "stdout",
     "output_type": "stream",
     "text": [
      "                            OLS Regression Results                            \n",
      "==============================================================================\n",
      "Dep. Variable:                    cnt   R-squared:                       0.833\n",
      "Model:                            OLS   Adj. R-squared:                  0.830\n",
      "Method:                 Least Squares   F-statistic:                     250.2\n",
      "Date:                Mon, 10 May 2021   Prob (F-statistic):          2.05e-187\n",
      "Time:                        21:34:05   Log-Likelihood:                -4135.3\n",
      "No. Observations:                 511   AIC:                             8293.\n",
      "Df Residuals:                     500   BIC:                             8339.\n",
      "Df Model:                          10                                         \n",
      "Covariance Type:            nonrobust                                         \n",
      "============================================================================================\n",
      "                               coef    std err          t      P>|t|      [0.025      0.975]\n",
      "--------------------------------------------------------------------------------------------\n",
      "const                     1599.6384    259.912      6.155      0.000    1088.984    2110.293\n",
      "temp                      4237.7268    285.393     14.849      0.000    3677.009    4798.444\n",
      "windspeed                -1249.8261    219.817     -5.686      0.000   -1681.705    -817.947\n",
      "season_spring             -537.2899    183.949     -2.921      0.004    -898.698    -175.882\n",
      "season_summer              496.4853    121.775      4.077      0.000     257.231     735.739\n",
      "season_winter              806.2167    149.829      5.381      0.000     511.845    1100.588\n",
      "yr_2019                   2045.3659     71.297     28.688      0.000    1905.287    2185.445\n",
      "mnth_Sep                   619.6218    154.514      4.010      0.000     316.045     923.199\n",
      "holiday_Yes               -598.5910    235.167     -2.545      0.011   -1060.628    -136.554\n",
      "weathersit_Light Snow    -2294.4213    208.363    -11.012      0.000   -2703.797   -1885.046\n",
      "weathersit_Mist + Cloudy  -665.2482     76.292     -8.720      0.000    -815.141    -515.355\n",
      "==============================================================================\n",
      "Omnibus:                       66.973   Durbin-Watson:                   1.982\n",
      "Prob(Omnibus):                  0.000   Jarque-Bera (JB):              160.392\n",
      "Skew:                          -0.686   Prob(JB):                     1.48e-35\n",
      "Kurtosis:                       5.377   Cond. No.                         17.4\n",
      "==============================================================================\n",
      "\n",
      "Notes:\n",
      "[1] Standard Errors assume that the covariance matrix of the errors is correctly specified.\n",
      "                   Features   VIF\n",
      "1                 windspeed  4.63\n",
      "0                      temp  3.88\n",
      "2             season_spring  2.01\n",
      "5                   yr_2019  1.96\n",
      "3             season_summer  1.95\n",
      "4             season_winter  1.63\n",
      "9  weathersit_Mist + Cloudy  1.57\n",
      "6                  mnth_Sep  1.20\n",
      "8     weathersit_Light Snow  1.08\n",
      "7               holiday_Yes  1.04\n"
     ]
    }
   ],
   "source": [
    "#Removing workingday_yes as it insignificant with high p-value and VIF\n",
    "\n",
    "cols = ['temp', 'windspeed', 'season_spring', 'season_summer',\n",
    "       'season_winter', 'yr_2019', 'mnth_Sep', 'holiday_Yes',\n",
    "        'weathersit_Light Snow','weathersit_Mist + Cloudy']\n",
    "       \n",
    "build_model(cols)\n",
    "get_vif(cols)"
   ]
  },
  {
   "cell_type": "markdown",
   "metadata": {},
   "source": [
    "### Model 7 - After dropping holiday_Yes column"
   ]
  },
  {
   "cell_type": "code",
   "execution_count": 146,
   "metadata": {},
   "outputs": [
    {
     "name": "stdout",
     "output_type": "stream",
     "text": [
      "                            OLS Regression Results                            \n",
      "==============================================================================\n",
      "Dep. Variable:                    cnt   R-squared:                       0.831\n",
      "Model:                            OLS   Adj. R-squared:                  0.828\n",
      "Method:                 Least Squares   F-statistic:                     274.3\n",
      "Date:                Mon, 10 May 2021   Prob (F-statistic):          2.98e-187\n",
      "Time:                        21:34:07   Log-Likelihood:                -4138.6\n",
      "No. Observations:                 511   AIC:                             8297.\n",
      "Df Residuals:                     501   BIC:                             8340.\n",
      "Df Model:                           9                                         \n",
      "Covariance Type:            nonrobust                                         \n",
      "============================================================================================\n",
      "                               coef    std err          t      P>|t|      [0.025      0.975]\n",
      "--------------------------------------------------------------------------------------------\n",
      "const                     1607.3105    261.312      6.151      0.000    1093.908    2120.713\n",
      "temp                      4217.7657    286.841     14.704      0.000    3654.206    4781.325\n",
      "windspeed                -1275.6277    220.781     -5.778      0.000   -1709.398    -841.857\n",
      "season_spring             -551.8186    184.863     -2.985      0.003    -915.021    -188.616\n",
      "season_summer              502.8991    122.413      4.108      0.000     262.393     743.405\n",
      "season_winter              798.8359    150.618      5.304      0.000     502.916    1094.756\n",
      "yr_2019                   2045.1937     71.686     28.530      0.000    1904.352    2186.036\n",
      "mnth_Sep                   595.3721    155.061      3.840      0.000     290.722     900.022\n",
      "weathersit_Light Snow    -2274.1343    209.346    -10.863      0.000   -2685.439   -1862.830\n",
      "weathersit_Mist + Cloudy  -658.5467     76.663     -8.590      0.000    -809.167    -507.927\n",
      "==============================================================================\n",
      "Omnibus:                       67.885   Durbin-Watson:                   1.980\n",
      "Prob(Omnibus):                  0.000   Jarque-Bera (JB):              153.828\n",
      "Skew:                          -0.714   Prob(JB):                     3.95e-34\n",
      "Kurtosis:                       5.277   Cond. No.                         17.4\n",
      "==============================================================================\n",
      "\n",
      "Notes:\n",
      "[1] Standard Errors assume that the covariance matrix of the errors is correctly specified.\n",
      "                   Features   VIF\n",
      "1                 windspeed  4.62\n",
      "0                      temp  3.87\n",
      "2             season_spring  2.01\n",
      "5                   yr_2019  1.96\n",
      "3             season_summer  1.95\n",
      "4             season_winter  1.63\n",
      "8  weathersit_Mist + Cloudy  1.57\n",
      "6                  mnth_Sep  1.19\n",
      "7     weathersit_Light Snow  1.08\n"
     ]
    }
   ],
   "source": [
    "#Removing holiday_Yes as it insignificant with high p-value and VIF\n",
    "\n",
    "cols = ['temp', 'windspeed', 'season_spring', 'season_summer',\n",
    "       'season_winter', 'yr_2019', 'mnth_Sep', \n",
    "        'weathersit_Light Snow','weathersit_Mist + Cloudy']\n",
    "       \n",
    "build_model(cols)\n",
    "get_vif(cols)"
   ]
  },
  {
   "cell_type": "markdown",
   "metadata": {},
   "source": [
    "###### Inferences:"
   ]
  },
  {
   "cell_type": "markdown",
   "metadata": {},
   "source": [
    "We can consider this model as both R square and adjusted R square value is greater than 0.82, the VIF value is below the expected range which is 5 and the P-value for the all the columns are almost zero i.e. below the assumed value 0.05.\n",
    "\n",
    "Difference between R-squared and Adjusted R-squared values for this model is veryless, which also means that there are no additional parameters that should be removed from this model."
   ]
  },
  {
   "cell_type": "code",
   "execution_count": 147,
   "metadata": {},
   "outputs": [],
   "source": [
    "#Building a model with all columns to select features automatically\n",
    "\n",
    "def build_model_sk(X,y):\n",
    "    lr1 = LinearRegression()\n",
    "    lr1.fit(X,y)\n",
    "    return lr1"
   ]
  },
  {
   "cell_type": "code",
   "execution_count": 148,
   "metadata": {},
   "outputs": [
    {
     "name": "stdout",
     "output_type": "stream",
     "text": [
      "1607.3105172075757 [ 4217.7656729  -1275.62771315  -551.81863701   502.89913333\n",
      "   798.83590319  2045.19367127   595.37205691 -2274.13427332\n",
      "  -658.54674036]\n"
     ]
    }
   ],
   "source": [
    "#Building the final model using sklearn\n",
    "\n",
    "cols = ['temp', 'windspeed', 'season_spring', 'season_summer',\n",
    "       'season_winter', 'yr_2019', 'mnth_Sep', \n",
    "        'weathersit_Light Snow','weathersit_Mist + Cloudy']\n",
    "\n",
    "#Build a model with above columns\n",
    "lr = build_model_sk(X_train[cols],y_train)\n",
    "print(lr.intercept_,lr.coef_)"
   ]
  },
  {
   "cell_type": "markdown",
   "metadata": {},
   "source": [
    "## 8. Model Evaluation"
   ]
  },
  {
   "cell_type": "markdown",
   "metadata": {},
   "source": [
    "### 8.1 Residucal Analysis"
   ]
  },
  {
   "cell_type": "code",
   "execution_count": 149,
   "metadata": {},
   "outputs": [],
   "source": [
    "# selecting columns for train predict data\n",
    "\n",
    "y_train_pred = lr.predict(X_train[cols])"
   ]
  },
  {
   "cell_type": "code",
   "execution_count": 150,
   "metadata": {},
   "outputs": [
    {
     "data": {
      "image/png": "[encoded data removed]",
      "text/plain": [
       "<Figure size 432x288 with 1 Axes>"
      ]
     },
     "metadata": {
      "needs_background": "light"
     },
     "output_type": "display_data"
    }
   ],
   "source": [
    "#Plot a histogram of the error terms\n",
    "\n",
    "def res(act, pred):\n",
    "    sns.distplot(act-pred)\n",
    "    plt.title('Error Terms')\n",
    "    plt.xlabel('Errors')\n",
    "    \n",
    "\n",
    "res(y_train, y_train_pred)"
   ]
  },
  {
   "cell_type": "markdown",
   "metadata": {},
   "source": [
    "Inference:\n",
    "    \n",
    "    This should be considered right train model as the mean value is 0\n",
    "    "
   ]
  },
  {
   "cell_type": "code",
   "execution_count": 153,
   "metadata": {},
   "outputs": [
    {
     "data": {
      "text/plain": [
       "0.8312719965201846"
      ]
     },
     "execution_count": 153,
     "metadata": {},
     "output_type": "execute_result"
    }
   ],
   "source": [
    "#Print R-squared Value\n",
    "\n",
    "r2_score(y_train,y_train_pred)"
   ]
  },
  {
   "cell_type": "markdown",
   "metadata": {},
   "source": [
    "Inference:\n",
    "    \n",
    "    The R-square value is same as we have got in our last model 0.83"
   ]
  },
  {
   "cell_type": "markdown",
   "metadata": {},
   "source": [
    "### 8.2 Linearity check"
   ]
  },
  {
   "cell_type": "code",
   "execution_count": 172,
   "metadata": {},
   "outputs": [
    {
     "data": {
      "image/png": "[encoded data removed]",
      "text/plain": [
       "<Figure size 432x288 with 1 Axes>"
      ]
     },
     "metadata": {
      "needs_background": "light"
     },
     "output_type": "display_data"
    }
   ],
   "source": [
    "# scatter plot for checking the linearity\n",
    "\n",
    "residual = (y_train - y_train_pred)\n",
    "plt.scatter(y_train,residual)\n",
    "plt.ylabel(\"y_train\")\n",
    "plt.xlabel(\"Residual\")\n",
    "plt.show()"
   ]
  },
  {
   "cell_type": "markdown",
   "metadata": {},
   "source": [
    "### 8.3 Predict values for test data set"
   ]
  },
  {
   "cell_type": "code",
   "execution_count": 155,
   "metadata": {},
   "outputs": [],
   "source": [
    "#Scale variables in X_test\n",
    "\n",
    "col1 = ['temp','atemp','hum','windspeed']\n",
    "\n",
    "#Test data to be transformed only, no fitting\n",
    "\n",
    "X_test[col1] = scaler.transform(X_test[col1])"
   ]
  },
  {
   "cell_type": "code",
   "execution_count": 156,
   "metadata": {},
   "outputs": [],
   "source": [
    "#Columns from our final model\n",
    "col2 = ['temp', 'windspeed', 'season_spring', 'season_summer',\n",
    "       'season_winter', 'yr_2019', 'mnth_Sep', \n",
    "        'weathersit_Light Snow','weathersit_Mist + Cloudy']\n",
    "\n",
    "#Predict the values for test data\n",
    "\n",
    "y_test_pred = lr.predict(X_test[col2])"
   ]
  },
  {
   "cell_type": "markdown",
   "metadata": {},
   "source": [
    "### 8.4 R-square and adjusted R-square value for test data"
   ]
  },
  {
   "cell_type": "code",
   "execution_count": 157,
   "metadata": {},
   "outputs": [
    {
     "name": "stdout",
     "output_type": "stream",
     "text": [
      "0.7914687493138122\n"
     ]
    }
   ],
   "source": [
    "# Find out the R squared value for test data  \n",
    "R2_test= r2_score(y_test,y_test_pred)\n",
    "print(R2_test)"
   ]
  },
  {
   "cell_type": "code",
   "execution_count": 179,
   "metadata": {},
   "outputs": [
    {
     "name": "stdout",
     "output_type": "stream",
     "text": [
      "0.7594718907429157\n"
     ]
    }
   ],
   "source": [
    "# Finding out the adjusted R-squared value for the test data\n",
    "\n",
    "n = X_test.shape[0]\n",
    "\n",
    "p = X_test.shape[1]\n",
    "\n",
    "adjusted_r2_test = 1 - (1 - R2_test) * ((n - 1)/(n-p-1))\n",
    "print(adjusted_r2_test)"
   ]
  },
  {
   "cell_type": "code",
   "execution_count": 171,
   "metadata": {},
   "outputs": [
    {
     "data": {
      "text/plain": [
       "(219, 29)"
      ]
     },
     "execution_count": 171,
     "metadata": {},
     "output_type": "execute_result"
    }
   ],
   "source": [
    "# Get the shape of X_test\n",
    "\n",
    "X_test.shape"
   ]
  },
  {
   "cell_type": "markdown",
   "metadata": {},
   "source": [
    "### 8.5 Homoscedacity"
   ]
  },
  {
   "cell_type": "code",
   "execution_count": 167,
   "metadata": {},
   "outputs": [
    {
     "data": {
      "text/plain": [
       "Text(0, 0.5, 'y_test_pred')"
      ]
     },
     "execution_count": 167,
     "metadata": {},
     "output_type": "execute_result"
    },
    {
     "data": {
      "image/png": "[encoded data removed]",
      "text/plain": [
       "<Figure size 432x288 with 1 Axes>"
      ]
     },
     "metadata": {
      "needs_background": "light"
     },
     "output_type": "display_data"
    }
   ],
   "source": [
    "# Plotting y_test and y_test_pred to understand the spread\n",
    "\n",
    "fig = plt.figure()\n",
    "plt.scatter(y_test, y_test_pred)\n",
    "fig.suptitle('y_test vs y_test_pred', fontsize = 20)             \n",
    "plt.xlabel('y_test', fontsize = 18)                          \n",
    "plt.ylabel('y_test_pred', fontsize = 16)\n"
   ]
  },
  {
   "cell_type": "markdown",
   "metadata": {},
   "source": [
    "## 9. Final Result Comparison"
   ]
  },
  {
   "cell_type": "markdown",
   "metadata": {},
   "source": [
    "Train R^2 :0.831\n",
    "\n",
    "Train Adjusted R^2 :0.828\n",
    "\n",
    "Test R^2 :0.791\n",
    "\n"
   ]
  },
  {
   "cell_type": "markdown",
   "metadata": {},
   "source": [
    "## 10. Final conclusion\n",
    "\n",
    "\n",
    "\n",
    "\n"
   ]
  },
  {
   "cell_type": "markdown",
   "metadata": {},
   "source": [
    "1. During the spring season, there will be more demand for renting bikes.\n",
    "\n",
    "\n",
    "2. When there will be heavy rain, snow fall and Thunderstorm, customer will be lesser in number to rent a bike.\n",
    "\n",
    "\n",
    "3. Month september would be a good time to start a new business strategy\n",
    "\n",
    "\n",
    "4. Below features are highly impacting the business:\n",
    "\n",
    "    Temperature\n",
    "    \n",
    "    Windspeed\n",
    "    \n",
    "    Season\n"
   ]
  }
 ],
 "metadata": {
  "kernelspec": {
   "display_name": "Python 3",
   "language": "python",
   "name": "python3"
  },
  "language_info": {
   "codemirror_mode": {
    "name": "ipython",
    "version": 3
   },
   "file_extension": ".py",
   "mimetype": "text/x-python",
   "name": "python",
   "nbconvert_exporter": "python",
   "pygments_lexer": "ipython3",
   "version": "3.8.5"
  }
 },
 "nbformat": 4,
 "nbformat_minor": 4
}
